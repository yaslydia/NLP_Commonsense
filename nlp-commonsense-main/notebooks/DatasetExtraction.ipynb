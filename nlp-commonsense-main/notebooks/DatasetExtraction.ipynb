{
 "cells": [
  {
   "cell_type": "code",
   "execution_count": 3,
   "metadata": {},
   "outputs": [],
   "source": [
    "import sys\n",
    "sys.path.append(\"../src\")"
   ]
  },
  {
   "cell_type": "code",
   "execution_count": 4,
   "metadata": {},
   "outputs": [
    {
     "name": "stderr",
     "output_type": "stream",
     "text": [
      "[nltk_data] Downloading package wordnet to /home/felix/nltk_data...\n",
      "[nltk_data]   Package wordnet is already up-to-date!\n",
      "[nltk_data] Downloading package omw-1.4 to /home/felix/nltk_data...\n",
      "[nltk_data]   Package omw-1.4 is already up-to-date!\n"
     ]
    }
   ],
   "source": [
    "%load_ext autoreload\n",
    "%autoreload 2\n",
    "\n",
    "import datasets\n",
    "from tqdm import tqdm\n",
    "import pandas as pd\n",
    "\n",
    "from process_examples import extract_terms\n",
    "from utils import load_conceptnet, normalize_conceptnet, normalize_input\n",
    "from find_shortest_path import find_word_path, search_shortest_path"
   ]
  },
  {
   "cell_type": "code",
   "execution_count": 2,
   "metadata": {},
   "outputs": [
    {
     "name": "stderr",
     "output_type": "stream",
     "text": [
      "Downloading: 4.16kB [00:00, 1.60MB/s]                   \n",
      "Downloading: 2.31kB [00:00, 1.26MB/s]                   \n",
      "Using custom data configuration default\n"
     ]
    },
    {
     "name": "stdout",
     "output_type": "stream",
     "text": [
      "Downloading and preparing dataset commonsense_qa/default (download: 4.46 MiB, generated: 2.08 MiB, post-processed: Unknown size, total: 6.54 MiB) to /home/felix/.cache/huggingface/datasets/commonsense_qa/default/0.1.0/1ca2d7b680c5bd93c0dc85f9cb65c0c8817e759ff82e405b28de54e83efa80f7...\n"
     ]
    },
    {
     "name": "stderr",
     "output_type": "stream",
     "text": [
      "Downloading: 100%|██████████| 3.79M/3.79M [00:03<00:00, 1.14MB/s]\n",
      "Downloading: 100%|██████████| 472k/472k [00:00<00:00, 931kB/s]\n",
      "Downloading: 100%|██████████| 423k/423k [00:00<00:00, 916kB/s]\n",
      "100%|██████████| 3/3 [00:07<00:00,  2.52s/it]\n",
      "100%|██████████| 3/3 [00:00<00:00, 763.57it/s]\n",
      "                                          \r"
     ]
    },
    {
     "name": "stdout",
     "output_type": "stream",
     "text": [
      "Dataset commonsense_qa downloaded and prepared to /home/felix/.cache/huggingface/datasets/commonsense_qa/default/0.1.0/1ca2d7b680c5bd93c0dc85f9cb65c0c8817e759ff82e405b28de54e83efa80f7. Subsequent calls will reuse this data.\n"
     ]
    },
    {
     "name": "stderr",
     "output_type": "stream",
     "text": [
      "100%|██████████| 3/3 [00:00<00:00, 285.82it/s]\n"
     ]
    }
   ],
   "source": [
    "cqa = datasets.load_dataset(\"commonsense_qa\")"
   ]
  },
  {
   "cell_type": "code",
   "execution_count": 12,
   "metadata": {},
   "outputs": [],
   "source": [
    "conceptnet = load_conceptnet()"
   ]
  },
  {
   "cell_type": "code",
   "execution_count": 46,
   "metadata": {},
   "outputs": [
    {
     "data": {
      "text/plain": [
       "{'answerKey': 'C',\n",
       " 'question': 'The fox walked from the city into the forest, what was it looking for?',\n",
       " 'choices': {'label': ['A', 'B', 'C', 'D', 'E'],\n",
       "  'text': ['pretty flowers.',\n",
       "   'hen house',\n",
       "   'natural habitat',\n",
       "   'storybook',\n",
       "   'dense forest']}}"
      ]
     },
     "execution_count": 46,
     "metadata": {},
     "output_type": "execute_result"
    }
   ],
   "source": [
    "cqa[\"train\"][4]"
   ]
  },
  {
   "cell_type": "code",
   "execution_count": 16,
   "metadata": {},
   "outputs": [],
   "source": [
    "from collections import Counter"
   ]
  },
  {
   "cell_type": "code",
   "execution_count": 17,
   "metadata": {},
   "outputs": [],
   "source": [
    "terms = Counter()"
   ]
  },
  {
   "cell_type": "code",
   "execution_count": 19,
   "metadata": {},
   "outputs": [
    {
     "name": "stderr",
     "output_type": "stream",
     "text": [
      "100%|██████████| 9741/9741 [01:43<00:00, 94.19it/s] \n"
     ]
    }
   ],
   "source": [
    "for q in tqdm(cqa[\"train\"][\"question\"]):\n",
    "    terms.update(extract_terms(q))"
   ]
  },
  {
   "cell_type": "code",
   "execution_count": 24,
   "metadata": {},
   "outputs": [
    {
     "data": {
      "text/plain": [
       "2697.4"
      ]
     },
     "execution_count": 24,
     "metadata": {},
     "output_type": "execute_result"
    }
   ],
   "source": [
    "len(terms)*0.2"
   ]
  },
  {
   "cell_type": "code",
   "execution_count": 35,
   "metadata": {},
   "outputs": [
    {
     "data": {
      "text/plain": [
       "1000"
      ]
     },
     "execution_count": 35,
     "metadata": {},
     "output_type": "execute_result"
    }
   ],
   "source": [
    "relevant_terms = terms.most_common()[200:1200]\n",
    "len(relevant_terms)"
   ]
  },
  {
   "cell_type": "code",
   "execution_count": 37,
   "metadata": {},
   "outputs": [
    {
     "name": "stderr",
     "output_type": "stream",
     "text": [
      "100%|██████████| 1000/1000 [00:00<00:00, 2571.91it/s]\n"
     ]
    }
   ],
   "source": [
    "triples = []\n",
    "\n",
    "for term, _ in tqdm(relevant_terms):\n",
    "    if term not in conceptnet.nodes_name2idx:\n",
    "        continue\n",
    "\n",
    "    idx = conceptnet.nodes_name2idx[term]\n",
    "    neighbour_idxs = conceptnet.adjacency_lists[idx]\n",
    "\n",
    "    for n_idx in neighbour_idxs:\n",
    "        if (idx, n_idx) not in conceptnet.edge_descriptors:\n",
    "            continue\n",
    "\n",
    "        descs = conceptnet.edge_descriptors[(idx, n_idx)]\n",
    "\n",
    "        for desc in descs:\n",
    "            label = conceptnet.labels_idx2name[desc.label_idx]\n",
    "\n",
    "            triples.append({\n",
    "                \"from\": term,\n",
    "                \"to\": conceptnet.nodes_idx2name[n_idx],\n",
    "                \"label\": label,\n",
    "                \"weight\": desc.weight\n",
    "            })"
   ]
  },
  {
   "cell_type": "code",
   "execution_count": 38,
   "metadata": {},
   "outputs": [
    {
     "data": {
      "text/plain": [
       "120579"
      ]
     },
     "execution_count": 38,
     "metadata": {},
     "output_type": "execute_result"
    }
   ],
   "source": [
    "len(triples)"
   ]
  },
  {
   "cell_type": "code",
   "execution_count": 63,
   "metadata": {},
   "outputs": [],
   "source": [
    "triples_df = pd.DataFrame(triples)"
   ]
  },
  {
   "cell_type": "code",
   "execution_count": 62,
   "metadata": {},
   "outputs": [],
   "source": [
    "questions_map = {\n",
    "    \"/r/AtLocation\": \"Where are you likely to find {0}?\",\n",
    "    \"/r/UsedFor\": \"What is {0} used for?\",\n",
    "    \"/r/PartOf\": \"What can {0} be a part of?\",\n",
    "    \"/r/CapableOf\": \"What can {0} do?\",\n",
    "    \"/r/SimilarTo\": \"What is {0} similar to?\"\n",
    "}"
   ]
  },
  {
   "cell_type": "code",
   "execution_count": 68,
   "metadata": {},
   "outputs": [],
   "source": [
    "triples_df = triples_df.query(\"label in @questions_map\")\n",
    "triples_df = triples_df.query(\"`from` != `to`\")"
   ]
  },
  {
   "cell_type": "code",
   "execution_count": 69,
   "metadata": {},
   "outputs": [
    {
     "data": {
      "text/plain": [
       "741"
      ]
     },
     "execution_count": 69,
     "metadata": {},
     "output_type": "execute_result"
    }
   ],
   "source": [
    "triples_df[\"from\"].nunique()"
   ]
  },
  {
   "cell_type": "code",
   "execution_count": 70,
   "metadata": {},
   "outputs": [],
   "source": [
    "selected_triples = triples_df.sort_values(\"weight\", ascending=False).drop_duplicates(\"from\")"
   ]
  },
  {
   "cell_type": "code",
   "execution_count": 71,
   "metadata": {},
   "outputs": [
    {
     "data": {
      "text/html": [
       "<div>\n",
       "<style scoped>\n",
       "    .dataframe tbody tr th:only-of-type {\n",
       "        vertical-align: middle;\n",
       "    }\n",
       "\n",
       "    .dataframe tbody tr th {\n",
       "        vertical-align: top;\n",
       "    }\n",
       "\n",
       "    .dataframe thead th {\n",
       "        text-align: right;\n",
       "    }\n",
       "</style>\n",
       "<table border=\"1\" class=\"dataframe\">\n",
       "  <thead>\n",
       "    <tr style=\"text-align: right;\">\n",
       "      <th></th>\n",
       "      <th>from</th>\n",
       "      <th>to</th>\n",
       "      <th>label</th>\n",
       "      <th>weight</th>\n",
       "    </tr>\n",
       "  </thead>\n",
       "  <tbody>\n",
       "    <tr>\n",
       "      <th>14810</th>\n",
       "      <td>fish</td>\n",
       "      <td>water</td>\n",
       "      <td>/r/AtLocation</td>\n",
       "      <td>11.489</td>\n",
       "    </tr>\n",
       "    <tr>\n",
       "      <th>22791</th>\n",
       "      <td>shark</td>\n",
       "      <td>ocean</td>\n",
       "      <td>/r/AtLocation</td>\n",
       "      <td>11.314</td>\n",
       "    </tr>\n",
       "    <tr>\n",
       "      <th>3066</th>\n",
       "      <td>alcohol</td>\n",
       "      <td>cloud judgement</td>\n",
       "      <td>/r/CapableOf</td>\n",
       "      <td>10.000</td>\n",
       "    </tr>\n",
       "    <tr>\n",
       "      <th>28115</th>\n",
       "      <td>clothing</td>\n",
       "      <td>closet</td>\n",
       "      <td>/r/AtLocation</td>\n",
       "      <td>10.000</td>\n",
       "    </tr>\n",
       "    <tr>\n",
       "      <th>53397</th>\n",
       "      <td>telephone</td>\n",
       "      <td>desk</td>\n",
       "      <td>/r/AtLocation</td>\n",
       "      <td>9.381</td>\n",
       "    </tr>\n",
       "    <tr>\n",
       "      <th>...</th>\n",
       "      <td>...</td>\n",
       "      <td>...</td>\n",
       "      <td>...</td>\n",
       "      <td>...</td>\n",
       "    </tr>\n",
       "    <tr>\n",
       "      <th>43338</th>\n",
       "      <td>effect</td>\n",
       "      <td>include vomiting</td>\n",
       "      <td>/r/CapableOf</td>\n",
       "      <td>1.000</td>\n",
       "    </tr>\n",
       "    <tr>\n",
       "      <th>41153</th>\n",
       "      <td>hope</td>\n",
       "      <td>bring fortune</td>\n",
       "      <td>/r/CapableOf</td>\n",
       "      <td>1.000</td>\n",
       "    </tr>\n",
       "    <tr>\n",
       "      <th>108972</th>\n",
       "      <td>york</td>\n",
       "      <td>england</td>\n",
       "      <td>/r/PartOf</td>\n",
       "      <td>0.500</td>\n",
       "    </tr>\n",
       "    <tr>\n",
       "      <th>94687</th>\n",
       "      <td>today</td>\n",
       "      <td>manhattan</td>\n",
       "      <td>/r/AtLocation</td>\n",
       "      <td>0.500</td>\n",
       "    </tr>\n",
       "    <tr>\n",
       "      <th>112458</th>\n",
       "      <td>won</td>\n",
       "      <td>friesland</td>\n",
       "      <td>/r/PartOf</td>\n",
       "      <td>0.500</td>\n",
       "    </tr>\n",
       "  </tbody>\n",
       "</table>\n",
       "<p>741 rows × 4 columns</p>\n",
       "</div>"
      ],
      "text/plain": [
       "             from                to          label  weight\n",
       "14810        fish             water  /r/AtLocation  11.489\n",
       "22791       shark             ocean  /r/AtLocation  11.314\n",
       "3066      alcohol   cloud judgement   /r/CapableOf  10.000\n",
       "28115    clothing            closet  /r/AtLocation  10.000\n",
       "53397   telephone              desk  /r/AtLocation   9.381\n",
       "...           ...               ...            ...     ...\n",
       "43338      effect  include vomiting   /r/CapableOf   1.000\n",
       "41153        hope     bring fortune   /r/CapableOf   1.000\n",
       "108972       york           england      /r/PartOf   0.500\n",
       "94687       today         manhattan  /r/AtLocation   0.500\n",
       "112458        won         friesland      /r/PartOf   0.500\n",
       "\n",
       "[741 rows x 4 columns]"
      ]
     },
     "execution_count": 71,
     "metadata": {},
     "output_type": "execute_result"
    }
   ],
   "source": [
    "selected_triples"
   ]
  },
  {
   "cell_type": "code",
   "execution_count": 72,
   "metadata": {},
   "outputs": [],
   "source": [
    "import random"
   ]
  },
  {
   "cell_type": "code",
   "execution_count": 78,
   "metadata": {},
   "outputs": [
    {
     "data": {
      "text/html": [
       "<div>\n",
       "<style scoped>\n",
       "    .dataframe tbody tr th:only-of-type {\n",
       "        vertical-align: middle;\n",
       "    }\n",
       "\n",
       "    .dataframe tbody tr th {\n",
       "        vertical-align: top;\n",
       "    }\n",
       "\n",
       "    .dataframe thead th {\n",
       "        text-align: right;\n",
       "    }\n",
       "</style>\n",
       "<table border=\"1\" class=\"dataframe\">\n",
       "  <thead>\n",
       "    <tr style=\"text-align: right;\">\n",
       "      <th></th>\n",
       "      <th>from</th>\n",
       "      <th>to</th>\n",
       "      <th>label</th>\n",
       "      <th>weight</th>\n",
       "    </tr>\n",
       "  </thead>\n",
       "  <tbody>\n",
       "    <tr>\n",
       "      <th>14810</th>\n",
       "      <td>fish</td>\n",
       "      <td>water</td>\n",
       "      <td>/r/AtLocation</td>\n",
       "      <td>11.489</td>\n",
       "    </tr>\n",
       "    <tr>\n",
       "      <th>14811</th>\n",
       "      <td>fish</td>\n",
       "      <td>water</td>\n",
       "      <td>/r/AtLocation</td>\n",
       "      <td>1.000</td>\n",
       "    </tr>\n",
       "  </tbody>\n",
       "</table>\n",
       "</div>"
      ],
      "text/plain": [
       "       from     to          label  weight\n",
       "14810  fish  water  /r/AtLocation  11.489\n",
       "14811  fish  water  /r/AtLocation   1.000"
      ]
     },
     "execution_count": 78,
     "metadata": {},
     "output_type": "execute_result"
    }
   ],
   "source": [
    "triples_df.query(\"`from` == 'fish' and `to` == 'water' and label == '/r/AtLocation'\")"
   ]
  },
  {
   "cell_type": "code",
   "execution_count": 85,
   "metadata": {},
   "outputs": [
    {
     "data": {
      "text/plain": [
       "'breadbox'"
      ]
     },
     "execution_count": 85,
     "metadata": {},
     "output_type": "execute_result"
    }
   ],
   "source": [
    "selected_triples[\"to\"].sample(1).values[0]"
   ]
  },
  {
   "cell_type": "code",
   "execution_count": 86,
   "metadata": {},
   "outputs": [
    {
     "name": "stderr",
     "output_type": "stream",
     "text": [
      "741it [00:20, 36.68it/s]\n"
     ]
    }
   ],
   "source": [
    "questions = []\n",
    "\n",
    "for idx, triple in tqdm(selected_triples.iterrows()):\n",
    "    \n",
    "    keyword = triple[\"from\"]\n",
    "    relation = triple[\"label\"]\n",
    "    correct_answer = triple[\"to\"]\n",
    "    wrong_answers = set()\n",
    "\n",
    "    while len(wrong_answers) < 4:\n",
    "        answer = selected_triples[\"to\"].sample(1).values[0]\n",
    "\n",
    "        # make sure that the wrong answer is not right\n",
    "        if (answer != correct_answer \n",
    "            and triples_df.query(\"`from` == @keyword and `to` == @answer and label == @relation\").empty):\n",
    "            wrong_answers.add(answer)\n",
    "\n",
    "    question = questions_map[triple[\"label\"]].format(triple[\"from\"])\n",
    "    choice_labels = [\"A\", \"B\", \"C\", \"D\", \"E\"]\n",
    "    answer_idx = random.choice(range(5))\n",
    "    choices_text = list(wrong_answers)\n",
    "    choices_text.insert(answer_idx, correct_answer)\n",
    "\n",
    "    questions.append({\n",
    "        \"answerKey\": choice_labels[answer_idx],\n",
    "        \"question\": question,\n",
    "        \"choices\": {\n",
    "            \"label\": choice_labels,\n",
    "            \"text\": choices_text\n",
    "        }\n",
    "    })"
   ]
  },
  {
   "cell_type": "code",
   "execution_count": 89,
   "metadata": {},
   "outputs": [],
   "source": [
    "random.shuffle(questions)"
   ]
  },
  {
   "cell_type": "code",
   "execution_count": 91,
   "metadata": {},
   "outputs": [
    {
     "data": {
      "text/plain": [
       "741"
      ]
     },
     "execution_count": 91,
     "metadata": {},
     "output_type": "execute_result"
    }
   ],
   "source": [
    "len(questions)"
   ]
  },
  {
   "cell_type": "code",
   "execution_count": 94,
   "metadata": {},
   "outputs": [
    {
     "data": {
      "text/plain": [
       "666.9"
      ]
     },
     "execution_count": 94,
     "metadata": {},
     "output_type": "execute_result"
    }
   ],
   "source": [
    "741*0.9"
   ]
  },
  {
   "cell_type": "code",
   "execution_count": 95,
   "metadata": {},
   "outputs": [],
   "source": [
    "train_questions = questions[:667]\n",
    "val_questions = questions[667:]"
   ]
  },
  {
   "cell_type": "code",
   "execution_count": 96,
   "metadata": {},
   "outputs": [],
   "source": [
    "train_questions_df = pd.DataFrame(train_questions)"
   ]
  },
  {
   "cell_type": "code",
   "execution_count": 98,
   "metadata": {},
   "outputs": [],
   "source": [
    "train_ds = datasets.Dataset.from_pandas(train_questions_df, split=\"train\")"
   ]
  },
  {
   "cell_type": "code",
   "execution_count": 100,
   "metadata": {},
   "outputs": [],
   "source": [
    "val_ds = datasets.Dataset.from_pandas(pd.DataFrame(val_questions), split=\"validation\")"
   ]
  },
  {
   "cell_type": "code",
   "execution_count": 107,
   "metadata": {},
   "outputs": [
    {
     "data": {
      "text/plain": [
       "{'answerKey': ['D', 'E', 'B', 'B', 'D'],\n",
       " 'question': ['What can leaf be a part of?',\n",
       "  'What is noise used for?',\n",
       "  'What is poor similar to?',\n",
       "  'What is standing similar to?',\n",
       "  'What can idea do?'],\n",
       " 'choices': [{'label': ['A', 'B', 'C', 'D', 'E'],\n",
       "   'text': ['bring fortune',\n",
       "    'holding',\n",
       "    'wet diaper',\n",
       "    'tree',\n",
       "    'getting on top']},\n",
       "  {'label': ['A', 'B', 'C', 'D', 'E'],\n",
       "   'text': ['prosperous',\n",
       "    'gregarious',\n",
       "    'scene',\n",
       "    'bottom out',\n",
       "    'get attention']},\n",
       "  {'label': ['A', 'B', 'C', 'D', 'E'],\n",
       "   'text': ['cool drink', 'stone broke', 'whole', 'at peace', 'house']},\n",
       "  {'label': ['A', 'B', 'C', 'D', 'E'],\n",
       "   'text': ['regular exercise', 'erect', 'deal blow', 'beautiful', 'musical']},\n",
       "  {'label': ['A', 'B', 'C', 'D', 'E'],\n",
       "   'text': ['league',\n",
       "    'repair shop',\n",
       "    'perplexed',\n",
       "    'divide countries',\n",
       "    'cupboard']}]}"
      ]
     },
     "execution_count": 107,
     "metadata": {},
     "output_type": "execute_result"
    }
   ],
   "source": [
    "val_ds[:5]"
   ]
  },
  {
   "cell_type": "code",
   "execution_count": 101,
   "metadata": {},
   "outputs": [],
   "source": [
    "questions_ds = datasets.DatasetDict({\"train\": train_ds, \"validation\": val_ds})"
   ]
  },
  {
   "cell_type": "code",
   "execution_count": 102,
   "metadata": {},
   "outputs": [
    {
     "data": {
      "text/plain": [
       "DatasetDict({\n",
       "    train: Dataset({\n",
       "        features: ['answerKey', 'question', 'choices'],\n",
       "        num_rows: 667\n",
       "    })\n",
       "    validation: Dataset({\n",
       "        features: ['answerKey', 'question', 'choices'],\n",
       "        num_rows: 74\n",
       "    })\n",
       "})"
      ]
     },
     "execution_count": 102,
     "metadata": {},
     "output_type": "execute_result"
    }
   ],
   "source": [
    "questions_ds"
   ]
  },
  {
   "cell_type": "code",
   "execution_count": 103,
   "metadata": {},
   "outputs": [],
   "source": [
    "questions_ds.save_to_disk(\"conceptnet_generated_questions\")"
   ]
  },
  {
   "cell_type": "code",
   "execution_count": 5,
   "metadata": {},
   "outputs": [],
   "source": [
    "ds = datasets.DatasetDict.load_from_disk(\"conceptnet_generated_questions\")"
   ]
  },
  {
   "cell_type": "code",
   "execution_count": 8,
   "metadata": {},
   "outputs": [],
   "source": [
    "import json"
   ]
  },
  {
   "cell_type": "code",
   "execution_count": null,
   "metadata": {},
   "outputs": [],
   "source": [
    "datasets.DatasetDict."
   ]
  },
  {
   "cell_type": "code",
   "execution_count": 7,
   "metadata": {},
   "outputs": [
    {
     "data": {
      "text/plain": [
       "'1.18.3'"
      ]
     },
     "execution_count": 7,
     "metadata": {},
     "output_type": "execute_result"
    }
   ],
   "source": [
    "datasets.__version__"
   ]
  },
  {
   "cell_type": "code",
   "execution_count": 6,
   "metadata": {},
   "outputs": [
    {
     "data": {
      "text/plain": [
       "DatasetDict({\n",
       "    train: Dataset({\n",
       "        features: ['answerKey', 'question', 'choices'],\n",
       "        num_rows: 667\n",
       "    })\n",
       "    validation: Dataset({\n",
       "        features: ['answerKey', 'question', 'choices'],\n",
       "        num_rows: 74\n",
       "    })\n",
       "})"
      ]
     },
     "execution_count": 6,
     "metadata": {},
     "output_type": "execute_result"
    }
   ],
   "source": [
    "ds"
   ]
  },
  {
   "cell_type": "code",
   "execution_count": 12,
   "metadata": {},
   "outputs": [
    {
     "name": "stderr",
     "output_type": "stream",
     "text": [
      "Creating json from Arrow format: 100%|██████████| 1/1 [00:00<00:00, 35.41ba/s]\n",
      "Creating json from Arrow format: 100%|██████████| 1/1 [00:00<00:00, 325.77ba/s]\n"
     ]
    },
    {
     "data": {
      "text/plain": [
       "12534"
      ]
     },
     "execution_count": 12,
     "metadata": {},
     "output_type": "execute_result"
    }
   ],
   "source": [
    "ds[\"train\"].to_json(\"conceptnet_ds_train.json\")\n",
    "ds[\"validation\"].to_json(\"conceptnet_ds_validation.json\")"
   ]
  },
  {
   "cell_type": "code",
   "execution_count": 13,
   "metadata": {},
   "outputs": [
    {
     "name": "stderr",
     "output_type": "stream",
     "text": [
      "Using custom data configuration default-34e778201200c26f\n"
     ]
    },
    {
     "name": "stdout",
     "output_type": "stream",
     "text": [
      "Downloading and preparing dataset json/default to /home/felix/.cache/huggingface/datasets/json/default-34e778201200c26f/0.0.0...\n"
     ]
    },
    {
     "name": "stderr",
     "output_type": "stream",
     "text": [
      "100%|██████████| 1/1 [00:00<00:00, 2910.69it/s]\n",
      "100%|██████████| 1/1 [00:00<00:00, 270.58it/s]\n",
      "Using custom data configuration default-586bff775a291fe8\n"
     ]
    },
    {
     "name": "stdout",
     "output_type": "stream",
     "text": [
      "Dataset json downloaded and prepared to /home/felix/.cache/huggingface/datasets/json/default-34e778201200c26f/0.0.0. Subsequent calls will reuse this data.\n",
      "Downloading and preparing dataset json/default to /home/felix/.cache/huggingface/datasets/json/default-586bff775a291fe8/0.0.0...\n"
     ]
    },
    {
     "name": "stderr",
     "output_type": "stream",
     "text": [
      "100%|██████████| 1/1 [00:00<00:00, 1777.25it/s]\n",
      "100%|██████████| 1/1 [00:00<00:00, 662.71it/s]"
     ]
    },
    {
     "name": "stdout",
     "output_type": "stream",
     "text": [
      "Dataset json downloaded and prepared to /home/felix/.cache/huggingface/datasets/json/default-586bff775a291fe8/0.0.0. Subsequent calls will reuse this data.\n"
     ]
    },
    {
     "name": "stderr",
     "output_type": "stream",
     "text": [
      "\n"
     ]
    }
   ],
   "source": [
    "ds = datasets.DatasetDict({\"train\": datasets.Dataset.from_json(\"conceptnet_ds_train.json\"), \n",
    "                    \"validation\": datasets.Dataset.from_json(\"conceptnet_ds_validation.json\")})"
   ]
  },
  {
   "cell_type": "code",
   "execution_count": 14,
   "metadata": {},
   "outputs": [
    {
     "data": {
      "text/plain": [
       "DatasetDict({\n",
       "    train: Dataset({\n",
       "        features: ['answerKey', 'question', 'choices'],\n",
       "        num_rows: 667\n",
       "    })\n",
       "    validation: Dataset({\n",
       "        features: ['answerKey', 'question', 'choices'],\n",
       "        num_rows: 74\n",
       "    })\n",
       "})"
      ]
     },
     "execution_count": 14,
     "metadata": {},
     "output_type": "execute_result"
    }
   ],
   "source": [
    "ds"
   ]
  },
  {
   "cell_type": "code",
   "execution_count": 99,
   "metadata": {},
   "outputs": [
    {
     "data": {
      "text/plain": [
       "DatasetDict({\n",
       "    train: Dataset({\n",
       "        features: ['answerKey', 'question', 'choices'],\n",
       "        num_rows: 9741\n",
       "    })\n",
       "    validation: Dataset({\n",
       "        features: ['answerKey', 'question', 'choices'],\n",
       "        num_rows: 1221\n",
       "    })\n",
       "    test: Dataset({\n",
       "        features: ['answerKey', 'question', 'choices'],\n",
       "        num_rows: 1140\n",
       "    })\n",
       "})"
      ]
     },
     "execution_count": 99,
     "metadata": {},
     "output_type": "execute_result"
    }
   ],
   "source": [
    "cqa"
   ]
  },
  {
   "cell_type": "code",
   "execution_count": 97,
   "metadata": {},
   "outputs": [
    {
     "data": {
      "text/html": [
       "<div>\n",
       "<style scoped>\n",
       "    .dataframe tbody tr th:only-of-type {\n",
       "        vertical-align: middle;\n",
       "    }\n",
       "\n",
       "    .dataframe tbody tr th {\n",
       "        vertical-align: top;\n",
       "    }\n",
       "\n",
       "    .dataframe thead th {\n",
       "        text-align: right;\n",
       "    }\n",
       "</style>\n",
       "<table border=\"1\" class=\"dataframe\">\n",
       "  <thead>\n",
       "    <tr style=\"text-align: right;\">\n",
       "      <th></th>\n",
       "      <th>answerKey</th>\n",
       "      <th>question</th>\n",
       "      <th>choices</th>\n",
       "    </tr>\n",
       "  </thead>\n",
       "  <tbody>\n",
       "    <tr>\n",
       "      <th>0</th>\n",
       "      <td>B</td>\n",
       "      <td>What is dish used for?</td>\n",
       "      <td>{'label': ['A', 'B', 'C', 'D', 'E'], 'text': [...</td>\n",
       "    </tr>\n",
       "    <tr>\n",
       "      <th>1</th>\n",
       "      <td>B</td>\n",
       "      <td>Where are you likely to find furniture?</td>\n",
       "      <td>{'label': ['A', 'B', 'C', 'D', 'E'], 'text': [...</td>\n",
       "    </tr>\n",
       "    <tr>\n",
       "      <th>2</th>\n",
       "      <td>D</td>\n",
       "      <td>What is loud similar to?</td>\n",
       "      <td>{'label': ['A', 'B', 'C', 'D', 'E'], 'text': [...</td>\n",
       "    </tr>\n",
       "    <tr>\n",
       "      <th>3</th>\n",
       "      <td>A</td>\n",
       "      <td>What is million similar to?</td>\n",
       "      <td>{'label': ['A', 'B', 'C', 'D', 'E'], 'text': [...</td>\n",
       "    </tr>\n",
       "    <tr>\n",
       "      <th>4</th>\n",
       "      <td>E</td>\n",
       "      <td>Where are you likely to find fish?</td>\n",
       "      <td>{'label': ['A', 'B', 'C', 'D', 'E'], 'text': [...</td>\n",
       "    </tr>\n",
       "    <tr>\n",
       "      <th>...</th>\n",
       "      <td>...</td>\n",
       "      <td>...</td>\n",
       "      <td>...</td>\n",
       "    </tr>\n",
       "    <tr>\n",
       "      <th>662</th>\n",
       "      <td>D</td>\n",
       "      <td>What is unlikely similar to?</td>\n",
       "      <td>{'label': ['A', 'B', 'C', 'D', 'E'], 'text': [...</td>\n",
       "    </tr>\n",
       "    <tr>\n",
       "      <th>663</th>\n",
       "      <td>B</td>\n",
       "      <td>What is expected similar to?</td>\n",
       "      <td>{'label': ['A', 'B', 'C', 'D', 'E'], 'text': [...</td>\n",
       "    </tr>\n",
       "    <tr>\n",
       "      <th>664</th>\n",
       "      <td>E</td>\n",
       "      <td>Where are you likely to find singing?</td>\n",
       "      <td>{'label': ['A', 'B', 'C', 'D', 'E'], 'text': [...</td>\n",
       "    </tr>\n",
       "    <tr>\n",
       "      <th>665</th>\n",
       "      <td>C</td>\n",
       "      <td>What is stuck similar to?</td>\n",
       "      <td>{'label': ['A', 'B', 'C', 'D', 'E'], 'text': [...</td>\n",
       "    </tr>\n",
       "    <tr>\n",
       "      <th>666</th>\n",
       "      <td>C</td>\n",
       "      <td>What can match do?</td>\n",
       "      <td>{'label': ['A', 'B', 'C', 'D', 'E'], 'text': [...</td>\n",
       "    </tr>\n",
       "  </tbody>\n",
       "</table>\n",
       "<p>667 rows × 3 columns</p>\n",
       "</div>"
      ],
      "text/plain": [
       "    answerKey                                 question  \\\n",
       "0           B                   What is dish used for?   \n",
       "1           B  Where are you likely to find furniture?   \n",
       "2           D                 What is loud similar to?   \n",
       "3           A              What is million similar to?   \n",
       "4           E       Where are you likely to find fish?   \n",
       "..        ...                                      ...   \n",
       "662         D             What is unlikely similar to?   \n",
       "663         B             What is expected similar to?   \n",
       "664         E    Where are you likely to find singing?   \n",
       "665         C                What is stuck similar to?   \n",
       "666         C                       What can match do?   \n",
       "\n",
       "                                               choices  \n",
       "0    {'label': ['A', 'B', 'C', 'D', 'E'], 'text': [...  \n",
       "1    {'label': ['A', 'B', 'C', 'D', 'E'], 'text': [...  \n",
       "2    {'label': ['A', 'B', 'C', 'D', 'E'], 'text': [...  \n",
       "3    {'label': ['A', 'B', 'C', 'D', 'E'], 'text': [...  \n",
       "4    {'label': ['A', 'B', 'C', 'D', 'E'], 'text': [...  \n",
       "..                                                 ...  \n",
       "662  {'label': ['A', 'B', 'C', 'D', 'E'], 'text': [...  \n",
       "663  {'label': ['A', 'B', 'C', 'D', 'E'], 'text': [...  \n",
       "664  {'label': ['A', 'B', 'C', 'D', 'E'], 'text': [...  \n",
       "665  {'label': ['A', 'B', 'C', 'D', 'E'], 'text': [...  \n",
       "666  {'label': ['A', 'B', 'C', 'D', 'E'], 'text': [...  \n",
       "\n",
       "[667 rows x 3 columns]"
      ]
     },
     "execution_count": 97,
     "metadata": {},
     "output_type": "execute_result"
    }
   ],
   "source": [
    "train_questions_df"
   ]
  },
  {
   "cell_type": "code",
   "execution_count": 90,
   "metadata": {},
   "outputs": [
    {
     "data": {
      "text/plain": [
       "[{'answerKey': 'E',\n",
       "  'question': 'What is cool similar to?',\n",
       "  'choices': {'label': ['A', 'B', 'C', 'D', 'E'],\n",
       "   'text': ['stairway', 'hole', 'cooking food', 'matter to voters', 'cold']}},\n",
       " {'answerKey': 'E',\n",
       "  'question': 'Where are you likely to find bedroom?',\n",
       "  'choices': {'label': ['A', 'B', 'C', 'D', 'E'],\n",
       "   'text': ['nonprofessional',\n",
       "    'locker room',\n",
       "    'finger',\n",
       "    'make love',\n",
       "    'house']}},\n",
       " {'answerKey': 'C',\n",
       "  'question': 'What is fishing used for?',\n",
       "  'choices': {'label': ['A', 'B', 'C', 'D', 'E'],\n",
       "   'text': ['closely held', 'productive', 'catching fish', 'up', 'living']}},\n",
       " {'answerKey': 'A',\n",
       "  'question': 'What is yard used for?',\n",
       "  'choices': {'label': ['A', 'B', 'C', 'D', 'E'],\n",
       "   'text': ['playing', 'page employee', 'decade', 'life', 'house']}},\n",
       " {'answerKey': 'C',\n",
       "  'question': 'What can general do?',\n",
       "  'choices': {'label': ['A', 'B', 'C', 'D', 'E'],\n",
       "   'text': ['sporting event',\n",
       "    'light room',\n",
       "    'lead army',\n",
       "    'market',\n",
       "    'absorbent']}}]"
      ]
     },
     "execution_count": 90,
     "metadata": {},
     "output_type": "execute_result"
    }
   ],
   "source": [
    "questions[5:10]"
   ]
  },
  {
   "cell_type": "code",
   "execution_count": null,
   "metadata": {},
   "outputs": [],
   "source": [
    "{'answerKey': 'C',\n",
    " 'question': 'The fox walked from the city into the forest, what was it looking for?',\n",
    " 'choices': {'label': ['A', 'B', 'C', 'D', 'E'],\n",
    "  'text': ['pretty flowers.',\n",
    "   'hen house',\n",
    "   'natural habitat',\n",
    "   'storybook',\n",
    "   'dense forest']}}"
   ]
  },
  {
   "cell_type": "code",
   "execution_count": null,
   "metadata": {},
   "outputs": [],
   "source": [
    "selected_triples[\"wrong_answers\"] = selected_triples[\"to\"].sample()"
   ]
  },
  {
   "cell_type": "code",
   "execution_count": 51,
   "metadata": {},
   "outputs": [
    {
     "data": {
      "text/plain": [
       "/r/AtLocation    6327\n",
       "/r/UsedFor       5736\n",
       "/r/Synonym       5662\n",
       "/r/CapableOf     3865\n",
       "/r/SimilarTo     1593\n",
       "Name: label, dtype: int64"
      ]
     },
     "execution_count": 51,
     "metadata": {},
     "output_type": "execute_result"
    }
   ],
   "source": [
    "triples_df.label.value_counts()"
   ]
  },
  {
   "cell_type": "code",
   "execution_count": 34,
   "metadata": {},
   "outputs": [
    {
     "data": {
      "text/plain": [
       "[('product', 40),\n",
       " ('many people', 40),\n",
       " ('committing', 40),\n",
       " ('standing', 40),\n",
       " ('box', 39),\n",
       " ('parent', 39),\n",
       " ('glass', 39),\n",
       " ('running', 39),\n",
       " ('common', 39),\n",
       " ('different', 39),\n",
       " ('horse', 39),\n",
       " ('year', 38),\n",
       " ('meeting', 38),\n",
       " ('drunk', 38),\n",
       " ('hour', 38),\n",
       " ('alcohol', 38),\n",
       " ('potato', 38),\n",
       " ('plant', 38),\n",
       " ('seeing', 38),\n",
       " ('sleep', 38)]"
      ]
     },
     "execution_count": 34,
     "metadata": {},
     "output_type": "execute_result"
    }
   ],
   "source": [
    "relevant_terms[:20]"
   ]
  },
  {
   "cell_type": "code",
   "execution_count": 21,
   "metadata": {},
   "outputs": [
    {
     "data": {
      "text/plain": [
       "[('wa', 1661),\n",
       " (' ', 942),\n",
       " ('people', 752),\n",
       " ('likely', 698),\n",
       " ('find', 575),\n",
       " ('person', 549),\n",
       " ('doe', 510),\n",
       " ('want', 368),\n",
       " ('what', 350),\n",
       " ('place', 303),\n",
       " ('wanted', 270),\n",
       " ('need', 263),\n",
       " ('john', 242),\n",
       " ('time', 238),\n",
       " ('ha', 219),\n",
       " ('like', 219),\n",
       " ('found', 212),\n",
       " ('work', 212),\n",
       " ('james', 208),\n",
       " ('good', 208)]"
      ]
     },
     "execution_count": 21,
     "metadata": {},
     "output_type": "execute_result"
    }
   ],
   "source": [
    "terms.most_common(20)"
   ]
  },
  {
   "cell_type": "code",
   "execution_count": 22,
   "metadata": {},
   "outputs": [
    {
     "data": {
      "text/plain": [
       "[('my ground pump', 1),\n",
       " ('electricity bill', 1),\n",
       " ('pump', 1),\n",
       " ('indoor merchants', 1),\n",
       " ('major city', 1),\n",
       " ('public transit', 1),\n",
       " ('transit', 1),\n",
       " ('cooled', 1),\n",
       " ('likely encounter', 1),\n",
       " ('insight', 1),\n",
       " (\"director's commentary\", 1),\n",
       " ('ones', 1),\n",
       " ('all varieties', 1),\n",
       " ('two year college degrees', 1),\n",
       " ('associates', 1),\n",
       " ('crossword puzzle', 1),\n",
       " ('ceo', 1),\n",
       " (\"ceo's curiosity\", 1),\n",
       " (\"billy's disability\", 1),\n",
       " ('alter', 1)]"
      ]
     },
     "execution_count": 22,
     "metadata": {},
     "output_type": "execute_result"
    }
   ],
   "source": [
    "terms.most_common()[:-21:-1]"
   ]
  },
  {
   "cell_type": "code",
   "execution_count": 15,
   "metadata": {},
   "outputs": [
    {
     "data": {
      "text/plain": [
       "['The sanctions against the school were a punishing blow, and they seemed to what the efforts the school had made to change?',\n",
       " 'Sammy wanted to go to where the people were.  Where might he go?',\n",
       " 'To locate a choker not located in a jewelry box or boutique where would you go?',\n",
       " 'Google Maps and other highway and street GPS services have replaced what?',\n",
       " 'The fox walked from the city into the forest, what was it looking for?',\n",
       " 'What home entertainment equipment requires cable?',\n",
       " 'The only baggage the woman checked was a drawstring bag, where was she heading with it?',\n",
       " 'The forgotten leftovers had gotten quite old, he found it covered in mold in the back of his what?',\n",
       " 'What do people use to absorb extra ink from a fountain pen?',\n",
       " 'Where is a business restaurant likely to be located?',\n",
       " 'Where do you put your grapes just before checking out?',\n",
       " 'Before getting a divorce, what did the wife feel who was doing all the work?',\n",
       " 'Johnny sat on a bench and relaxed after doing a lot of work on his hobby.  Where is he?',\n",
       " \"James was cooling off two quickly.  He would die if he didn't find some way to stop what?\",\n",
       " 'Of all the rooms in a house it was his favorite, the aromas always drew him to the what?',\n",
       " 'Bill is stuck in marsh when a man comes up to him peaking Cajun, where is he?',\n",
       " 'What is it called when you slowly cook using a grill?',\n",
       " 'What type of person typically contracts illness?',\n",
       " 'Where would you expect to find a pizzeria while shopping?',\n",
       " 'When eating everything on the tasting menu, what does one tend to feel?',\n",
       " 'What does playing soccer for a long time lead to?',\n",
       " 'Which entrance would you use if you do not want to use the back entrance?',\n",
       " 'You can share files with someone if you have a connection to a what?',\n",
       " 'The accelerator was controller via a hand throttle, and the foot pedals controlled the steering in the small what?',\n",
       " 'Sean was lying about the body, but he was very scared.  He constantly worried about what?',\n",
       " 'The drug kingpin told his man to run errands, this was code to go to all the dealers to do what they had?',\n",
       " \"Though he could've kept going his body appreciated the rest, it had been constantly what during the day?\",\n",
       " 'Too many people want exotic snakes.  The demand is driving what to carry them?',\n",
       " 'Joe suffered many consequences from stabbing a stranger to death.   Among them, the family of the victim did something to him. What was that?',\n",
       " 'To prevent any glare during the big football game he made sure to clean the dust of his what?',\n",
       " 'I have something in my head I want to share, what ways can I do that?',\n",
       " 'He wanted a house that was gated off from other places, where should he start looking?',\n",
       " 'Where in Southern Europe would you find many canals?',\n",
       " 'What would a camper need to do before he or she can start cooking food?',\n",
       " 'What could happen to a paper if you leave it outside even if it does not move?',\n",
       " \"Mark's semen was very thick, but after his vasectomy it was also what?\",\n",
       " 'What is a great place to lay in the sun?',\n",
       " 'Where would you find a seafood restaurant in the east coast of North America?',\n",
       " 'The president is the leader of what institution?',\n",
       " 'Sitting to close while watching TV can cause what sort of pain?',\n",
       " 'Where is a bald eagle safe?',\n",
       " \"The game promised it was free, but the child's parents soon found themselves doing what for microtransactions?\",\n",
       " 'What kind of driving leads to accidents?',\n",
       " 'What is eating too much dinner likely to result in?',\n",
       " 'What is a person chatting with friends likely hoping to accomplish?',\n",
       " \"Jame's bare feet were burned as he walked, because the sunshine had made the surface hot.  Where might he have been?\",\n",
       " 'A fox was thirsty searching for water during the drought, where was he?',\n",
       " 'What might be the result of a season of successful skiing?',\n",
       " 'The sensor would just the distance then set off an alarm, the installation expert explained it was called a what kind of sensor?',\n",
       " 'The man was eating lunch, but rushed when he looked at his watch, why did he rush?',\n",
       " 'The evacuation became mandatory, so what came on the TV?',\n",
       " 'The person gave a good hands on what to show how to do the work?',\n",
       " 'Where would you see some people doing jumping jacks?',\n",
       " 'The body guard was good at his duties, he made the person who hired him what?',\n",
       " \"Learning languages is difficult.  Even in a full immersion environment you're likely to make mistakes, mistakes will cause misinterpretation, which will be uncomfortable, which will cause what?,\",\n",
       " 'Jim enjoyed killing people, but he did it too often and the cops found out.  What might the cops do to him?',\n",
       " 'Where is there usually a fiddle playing?',\n",
       " 'What is the only was to recover from exhaustion?',\n",
       " 'What would you do if you want to be able to earn money?',\n",
       " 'What is a grumpy person likely to have?',\n",
       " 'What do drugs do?',\n",
       " 'A beaver can destroy a machines functionality if they build their dam in this?',\n",
       " 'They decided to hash things out over drinks, after enough booze they were able to get close on a few things and what?',\n",
       " 'Where could a fungus grow and not be disturbed by sunlight?',\n",
       " 'Can you name a good reason for attending school?',\n",
       " 'What state south of Kentucky and north of Alabama will you find people playing the fiddle?',\n",
       " 'Though she made the cut years ago, its figurative scars would never what?',\n",
       " 'What does sex often make happen in people?',\n",
       " 'Where would you see people in uniform playing with a ball?',\n",
       " 'What kind of place could have a seafood restaurant?',\n",
       " 'Who was the head of the branch yelling at?',\n",
       " 'He made another call, he did this all day hoping people would what well to his offer?',\n",
       " 'She needs to visit a bookshop after buying the latest fashion, where should she look?',\n",
       " 'Where could you see an advertisement while reading news?',\n",
       " 'What is required to be good at playing tennis?',\n",
       " 'What state is the John Davis  Lodge toll road found in?',\n",
       " 'The man went to clown college, he had always want to run away with the what?',\n",
       " 'Jamie wanted to reduce her waist size, but all of her efforts failed miserably.  She continued to do what?',\n",
       " \"James felt himself losing consciousness.  He was frightened.  He didn't want this.  He was scared of what?\",\n",
       " 'If someone is aloof and self-important, what is their experience when meeting people?',\n",
       " \"He was receiving workman's compensation, he had tripped over a metal rod while building where?\",\n",
       " 'John and James spent most of their time communicating with each other on their project.  The time required to communicate slowed their what?',\n",
       " 'When you play around with your dog they will have?',\n",
       " \"Where would a person keep a book while it's being read?\",\n",
       " 'The student needed to  get some new pencils, where did he go?',\n",
       " 'She loved buying products, she was driven by her what to shop more than any practical needs?',\n",
       " 'How does getting paid feel?',\n",
       " 'The fat man refused to accept what was possible, he complained that he what the simplest activities?',\n",
       " 'Where can meat last a long time?',\n",
       " 'What group of musicians will include someone playing the cello?',\n",
       " 'Where do bees congregate with red flowerS?',\n",
       " 'What is someone who gets angry after getting drunk likely to participate in?',\n",
       " 'The teacher told all the students that listening was key, it was the main way they would gain what?',\n",
       " 'Stanley had a dream that was very vivid and scary. He had trouble telling it from what?',\n",
       " \"The city's community garden was demolished for yet another what?\",\n",
       " 'WHat do cats get into when they are ripping things apart?',\n",
       " 'What is a good result of losing weight?',\n",
       " 'A person lived in my what?',\n",
       " 'The skin was cut while chopping onions, where was this skin likely cut?',\n",
       " 'What might you feel after doing housework for hours?',\n",
       " 'The accountant used a calculator regularly, he kept one at home and one at the what?',\n",
       " 'At the end of your meal what will a waiter do?',\n",
       " \"If you aren't glad, unhappy or gloomy, what illness may you have?\",\n",
       " 'You can hear testimony of how spirituality changes lives when you do what?',\n",
       " 'It was a great rest, she had never felt this much what in the morning?',\n",
       " 'Which region has the most famous temple?',\n",
       " 'Where would you find a bee gathering pollen?',\n",
       " 'Where would you put a folding chair if you do not plan to use it and you do not have any large doors in your house?',\n",
       " \"If you're speaking to a lawyer about getting a divorce, what relationship status are you trying to end?\",\n",
       " 'How do geese normally get from place to place?',\n",
       " 'John was punching and punching at the wall but succeeded only in bloodying his knuckles. This was bad.  He would be unable to hold his tools if he injured what?',\n",
       " 'Though it stayed strictly indoors, the small dog felt like it had all the space in the world in the what?',\n",
       " \"WHat leads to someone's death when they are very depressed?\",\n",
       " 'She was sick and staying in bed the day of the event, unfortunately this meant she was what?',\n",
       " 'Where would a lizard surprise a person?',\n",
       " \"They were getting together for the big game, he wasn't hosting but made sure to bring pretty of food with him over to where?\",\n",
       " 'Who is likely yo have a caring heart?',\n",
       " \"I'm looking for alcohol and fried foods, any suggestions?\",\n",
       " 'If I had a jar which was likely to spoil if left out, where would I want to put it?',\n",
       " 'Sam went to Paris where he ordered a blowfish at a sushi place.  Where was Sam?',\n",
       " 'What will happen to skin pinched in something?',\n",
       " \"Sally lost her kite because she wasn't careful.  She thought that there was more string on the spool, but it slipped out of her fingers when she reached the what?.\",\n",
       " 'The man uses grooming before a job interview, what is he trying to portray?',\n",
       " 'Where would there be many people sitting in chair and listening to religious speech?',\n",
       " 'Where is a tabby cat likely to be happiest?',\n",
       " 'East coast areas such as Florida are found where?',\n",
       " 'To learn must have the right book, to work efficiently what must one have?',\n",
       " 'What is a mobile launching platform found in the ocean?',\n",
       " \"There weren't potatoes but actually a snake in his what?\",\n",
       " 'What could listening to music cause you to be?',\n",
       " 'If you want to make a big splash in a river with a rock, from where should you throw it?',\n",
       " 'What is committing perjury likely to lead to?',\n",
       " 'The new play was the go to performance of the year, all the crowds would stand and what?',\n",
       " '\"There are 10 apples on an apple tree.  Three fall off.  Now there are X apples.\"  What is this an example of?',\n",
       " 'Where are people likely to find food?',\n",
       " 'What might a kid do with his friend before going to play?',\n",
       " 'What is a person who is well educated?',\n",
       " 'Ben was an alcoholic and was in an accident.  Because of his mistake, he spent 8 years somewhere. Where was he?',\n",
       " 'Where do you buy tickets at a ticket booth for games/',\n",
       " 'A soccer field that is not contained in a building would be where?',\n",
       " 'Letters are sometimes delivered by hand through one of these.',\n",
       " \"John came to see Sam and Sam kicked him out.  Sam didn't like company.  He prefered what?\",\n",
       " 'If somebody likes temperatures cool, they might have more than one electric fan where?',\n",
       " 'Sky diving scared him, once they jumped out of the plane he began losing consciousness while what?',\n",
       " 'The president had to make a decision regarding the hate attack on his country, what did he do?',\n",
       " \"What's it called when you have seen something through an eyepiece?\",\n",
       " 'He had done a great job with the scary decorations, they were completely what?',\n",
       " 'If you did well on the test, you might get an A as a what?',\n",
       " \"If you tell you boss your suffering from boredom they'll likely tell you to get back to what?\",\n",
       " 'What is a good result of jogging?',\n",
       " 'What is done to wood to attach something to it?',\n",
       " 'Where is a fox likely to be caught?',\n",
       " 'Where do you put a new dining table?',\n",
       " \"Sometimes fighting inflation isn't even what, because it is so negligible?\",\n",
       " 'What is likely to have more than one level in a city?',\n",
       " 'Where is likely to have a lot of fire extinguishers?',\n",
       " 'Where would someone learn to play an upright piano?',\n",
       " 'What is necessary for learning by yourself?',\n",
       " 'John and Jane were a couple.  They were dating for a while and wanted to be together for even longer. For this reason, they did what?',\n",
       " 'What emotion does getting paid lead to?',\n",
       " 'Who is likely going in to a market?',\n",
       " 'What is a characteristic of thin glass?',\n",
       " 'What do you get for not moving your car during the required time?',\n",
       " \"Bob's feet hurt from running barefoot on the hot pavement.  I lost his shoes, didn't know where they landed, and had to run from the corner store to his home.  About where did he run?\",\n",
       " 'Where would you be able to hear a bassoon played in an unpleasing fashion?',\n",
       " 'John loved competing because he was very competitive.  He liked being about to divide people into what categories?',\n",
       " 'The game was on sale.  I got it then because it was usually what?',\n",
       " 'What could a massive building be if it is not constructed well?',\n",
       " 'Where could a printer be used by thousands of people?',\n",
       " 'What could prevent someone from buying chistmas presents?',\n",
       " 'What is the hope of playing sports without competition?',\n",
       " 'They moved out of the city to have a master bedroom, what kind of home did they seek?',\n",
       " 'What could you add a line to?',\n",
       " 'Joe bought a ficus.  He thought it would look good in what part of his home?',\n",
       " \"Sarah wanted to by a new rug.  Ink spilled onto her old one.  Really, she didn't know what that thing had an inkwell in the first place.  What piece of furniture might have been on her run?\",\n",
       " 'When people discover something new while chatting with friends, why are they likely to continue talking?',\n",
       " \"How can one's views change after learning about science?\",\n",
       " 'Traveling underwater has many dangers, such as low visibility causing what?',\n",
       " 'Where are people likely to stand at an intersection?',\n",
       " 'Janet knew she was dying from her injuries because she could feel herself doing what?',\n",
       " 'An expressway can suffer from traffic, this traffic gets worse the closer you get to any what?',\n",
       " 'Where are there more telephone booths?',\n",
       " 'John moved away from his family.  He was a bit upset that he had to do it, but he needed the job.  Still, he would have preferred it if the job were what?',\n",
       " \"James complained that Alexa's electric guitar was too loud and he couldn't get any work done at home,  so she decided that she should get an acoustic guitar.  Where might she look for one?\",\n",
       " 'What can someone feeling happiness fall into?',\n",
       " 'How might a person address someone who is leaving?',\n",
       " 'What does a chef do when working in the evening?',\n",
       " 'What would happen to a person if his or her money is stolen?',\n",
       " 'The people in class were instructed to brainstorm ideas, how would they use their minds for this?',\n",
       " 'Someone lacking immortality will one day be?',\n",
       " 'After his mother saw his report card he knew he was going to be doing housework, what could have prevented this?',\n",
       " \"Glass that hasn't been treated to be extra strong is what?\",\n",
       " \"If you've thrown a rod you've done damage to what?\",\n",
       " 'What enables most people to transport themselves?',\n",
       " 'What do people in the same family often share?',\n",
       " 'What is an area with no grass where I can get things to sell at a roadside stand?',\n",
       " 'Where do kids find fish in their backyards?',\n",
       " 'Where must one wear a white shoe?',\n",
       " 'James chose to not to print the cards, because he wanted to be more personal. What type of cards did he choose, instead?',\n",
       " 'They checked the weather one more time during the flight, they were on their way to paradise and wanted it to what?',\n",
       " 'What are you hoping to achieve when talking to someone?',\n",
       " 'What place of work might you find a hairpin?',\n",
       " 'What can go on a football field?',\n",
       " 'What has a master of their craft done about that craft?',\n",
       " 'If your watching television and accomplish nothing what have you done?',\n",
       " 'He was in a cabin in the woods, through the window he saw a fox where?',\n",
       " 'The hippy wanted peace with all humans, he had strong what for them all?',\n",
       " 'He was a very sharp engineer, but when it came to the details his calculations could were often what?',\n",
       " 'In the middle of the day what will someone do because of being hungry?',\n",
       " 'John enjoyed his time visiting the museum.  He wanted to spend more time there, so that he could study the exhibits more.   He was a very academic person and loved doing what?',\n",
       " 'What will telling many people about an embarrassing situation lead to?',\n",
       " 'The electric motor powered many important things, including one if almost every house. Name this item?',\n",
       " 'Where can peanut butter be stored?',\n",
       " 'Where would you play a board game with your family?',\n",
       " 'James needed a garage because he spent a lot of money on what?',\n",
       " 'If I am a person, I have a unique ability to do what?',\n",
       " 'Two friends wanted to spend a quiet evening together, what did they go see?',\n",
       " 'If an animal is tired, what is it likely to do?',\n",
       " 'Where would you sit in a chair to watch four-legged animals complete?',\n",
       " 'If you were looking for a lemur where would you find it?',\n",
       " 'John ran out of pencils.  Where did  he go to get more?',\n",
       " 'When would you be able to see your reflection in a piece of wood?',\n",
       " 'What emotion do people expressing themselves show when they trip in front of a crowd and break their leg?',\n",
       " 'He waited for his friend at the squash court, but he was worried his friend thought he meant the at the other end of the public what?',\n",
       " 'When you plant a garden you can harvest what to eat?',\n",
       " 'Where is basketball court likely to be outdoors?',\n",
       " 'What could a balalaika be needed for?',\n",
       " 'What type of home is most likely to have an attic filled with historical items?',\n",
       " \"Jackson is a popular city name, but the one with a governor's office is where?\",\n",
       " 'Where is microphone boom likely to be used to record an album?',\n",
       " 'What is the worst outcome of an injury?',\n",
       " 'How is someone who loves their TV likely to feel about their remote?',\n",
       " 'The man wanted to take a bus, but all the chars were full of people doing what?',\n",
       " 'Bob thought that his Pokemon cards were common and worthless, but he was wrong about them. They were really what?',\n",
       " 'A wife asks a husband to stop being married to her, what is he likely to feel even with friends?',\n",
       " 'The camper looked up at the vast night sky, it left him feeling mighty what?',\n",
       " 'Though nearby, an apple from an apple tree where would be an imported product to the USA?',\n",
       " 'The old man was retired and liked the simple things, he would do crossword puzzle every morning simply just to do what?',\n",
       " 'What would you change the learning process to be if someone does not like learning?',\n",
       " 'To properly instruct children attending school you would need a great deal of what?',\n",
       " \"If done correctly grooming pet's nails generally does not cause this?\",\n",
       " 'The man was cleaning clothes for his date, what was he looking to achieve?',\n",
       " 'The person was looking up airline and hotel prices, what was he looking to do?',\n",
       " 'The person put on lotion, what did they want?',\n",
       " \"Eating breakfast in bed can make you feel what, assuming that you don't spill anything?\",\n",
       " 'What would an adult man do to get ready for work?',\n",
       " 'The woman picked from an apple tree while surrounded by other trees, where was she?',\n",
       " 'Mom is tidying a house, where would she put the loose dictionary?',\n",
       " 'The judge did not take this part of the job lightly, the man was guilty but it was his passing sentence that condemned the man to what?',\n",
       " \"Simon bought a cow because he wanted to put it to work.   He didn't want any meat for it.  Where might Simon be taking the cow?\",\n",
       " 'What would children do if they are bored?',\n",
       " 'Behind what small door are canned goods usually kept in?',\n",
       " 'While laid up in the hospital she tried remembering good times, like that massage on vacation that brought great what?',\n",
       " 'If I want to maximize my number of potential customers, where should I build a new department store?',\n",
       " 'Where is a good place to get a ball?',\n",
       " 'What common chemical reaction is often used as a heat source?',\n",
       " 'Where could you put a dollar that would make it hard to get out without breaking?',\n",
       " \"I'm at a restaurant ans want a glass of milk, how do I find out if they serve that?\",\n",
       " 'What could contain no more than around 100 people?',\n",
       " 'John joined the army because he wanted to see the world.  When the fighting started, he only saw what sort of things?',\n",
       " 'where do children play a game?',\n",
       " 'What could happen after driving car that does not involve pain?',\n",
       " 'In what place could you find air that has been breathed by only a few people recently?',\n",
       " 'what happens to a company when it is bankrupt?',\n",
       " \"Blood isn't usually spilled during what sport that doesn't allow the use of hands?\",\n",
       " 'The dog ran to the front window and barked, this is because of a presence at the what?',\n",
       " 'Where would you find a sign with some people lined up next to it?',\n",
       " 'Sometimes it felt like being able to pay bills was the only reason he was actively what?',\n",
       " 'John just made first violin.  This is  is a position on what?',\n",
       " 'Where can someone keep a digital file?',\n",
       " 'What appliance uses water and soap?',\n",
       " 'I am looking to buy honey right from an apiary, where should I go?',\n",
       " 'Where would someone likely bring an attache case?',\n",
       " 'i like to examine different things,why do books the chapters on the back',\n",
       " 'The whole family was playing cards, they were full of joy and what?',\n",
       " 'Jimmy wanted a beer but his wife was an alcoholic on probation.  Where might he go?',\n",
       " 'What country has with the capital of Amsterdam has a Fortis bank?',\n",
       " 'What building has a ot of glue bottles?',\n",
       " 'The king was to meet an ambassador, where would the meet?',\n",
       " 'Where do kids play with a ball that is concrete?',\n",
       " 'Diving off a cliff for a cartoon character often ends in comedic what?',\n",
       " \"Jimmy didn't like going to the party.  It seemed like the guys there did nothing but what?\",\n",
       " 'Where does a person need to get when they have more kids?',\n",
       " 'Where would a special ficus be found?',\n",
       " \"James is apply for a job that he really wants. He knows that it will be a good fit and he has experience, but he doesn't have all the qualifications that they're asking for, so he's worried about what?\",\n",
       " 'What is a sign that you might not be living soon?',\n",
       " 'Riding bike through rough terrain can be dangerous, one could find themselves what?',\n",
       " 'What would a document be if it is not obtuse?',\n",
       " 'For convenience some customers want things straight to the doorstep and use what?',\n",
       " 'What is a great, but non-specific, overall benefit of exercise?',\n",
       " 'Where does a spoon go on one side of a plate?',\n",
       " 'Where is a note likely to indicate a melody?',\n",
       " 'what can years of playing tennis lead to?',\n",
       " 'Where would you be going if using a parking lot near a roller coaster?',\n",
       " 'What does a virus primarily do to a person?',\n",
       " \"Where would you go if you didn't feel like baking a cake yourself?\",\n",
       " 'Where are floors kept clean for holy purposes?',\n",
       " 'Where will a bullet projectile be found during a war?',\n",
       " 'What is a place that might not always have a queen?',\n",
       " 'What do you need to be to learn hard concepts?',\n",
       " 'Many addicts turn to exercise to deal with their addictions, this is because it is a healthy way to do what?',\n",
       " \"A night owl is what you'd head at sunset and you'd hear a what at sunrise?\",\n",
       " 'What place is not interesting to children?',\n",
       " 'What do rich people like in terms of bagels?',\n",
       " 'A shop will give you what for your purchases?',\n",
       " 'Where is small knight likely to be found?',\n",
       " 'How can you get in shape if there is no land nearby?',\n",
       " 'What might a person receive from their boss if they do a poor job?',\n",
       " 'The cabinets were imported from the south. John bought they because he knew that they would look good.  Where might they be installed?',\n",
       " 'What might two people competing get into?',\n",
       " 'What are ai machines known for doing?',\n",
       " 'Bob and Boris were standing in a queue at the grocery store.  They were standing in place.  The line was fast, but the children in front of them were loud.   They were what?',\n",
       " 'A blowfish lives free. He lives on his own. Where does he live?',\n",
       " 'Where is a paper notice likely to be left on a house?',\n",
       " 'People are purposefully harming others, what trait are they exhibiting?',\n",
       " 'The child pounded his mitt in excitement while enjoying his first game in the bleachers where?',\n",
       " 'After eating a dinner of uncooked chicken, what was felt by the poor man?',\n",
       " 'The obsessive man was always washing hands, he had even done it so much once that it caused a what?',\n",
       " 'The person is laying on the beach, why would he do that?',\n",
       " \"The spoiled child's playroom was massive, but only one of many rooms in the what?\",\n",
       " \"There's a lot to reproducing, but it begins and end with new life by giving what?\",\n",
       " 'Where is known to always have snow?',\n",
       " 'What does someone want when having fun with their friends and trying to fit in?',\n",
       " 'The parents thought their children should learn teamwork, what were they signed up for?',\n",
       " 'If a human is sleepy what can they do to feel more alert?',\n",
       " 'What is a place that could have hundreds of sporting goods store?',\n",
       " \"The little girl was raised selfish, she didn't even care when she was doing what?\",\n",
       " 'People want to explore space, so what should they use to do it?',\n",
       " 'Where might I find unusual varieties of roses?',\n",
       " 'Where would you put a light?',\n",
       " 'What can happen to you when eating hamburger from someone that you do not know that does not happen when you usually eat a hamburger?',\n",
       " \"When he touched the exposed wire he shouldn't have found it surprising that he got what?\",\n",
       " 'If one sees a fox and is standing in a landlocked, southern state, where is this person?',\n",
       " 'The priest pushed for more orthodox behavior, what kind of behavior was he trying to stop?',\n",
       " 'When they got out of the car in the mountains he felt like he was breathing fresh air for the first time, he began to do what to enjoy it more?',\n",
       " \"The cow would come outside even after the storm had passed, it wouldn't leave the what?\",\n",
       " 'Where would you get a contraceptive if you do not have one?',\n",
       " 'Where would a Martian find the Indian Ocean?',\n",
       " 'Where would a ficus plant brighten up a room?',\n",
       " 'The turkey needed to be kept from spoiling, what is useful in this situation?',\n",
       " 'Sam found a giant hole in the plain.  What might this hole be called?',\n",
       " 'If I have to keep track of how much oxygen there is, where am I?',\n",
       " 'The other passengers on the bus were quite loud, so he put on his headphones to relax and what?',\n",
       " 'The person knew the police were after him, so what did he do?',\n",
       " 'After going for run you have a sense of what?',\n",
       " 'If you are fiddling through a music book when you should be playing, you probably dont have?',\n",
       " 'In the movie a fragile man is causing accidents, his hope is to find a person opposite of him who is what?',\n",
       " 'Where would you get a bass clarinet to take home?',\n",
       " 'What will you need to do to decide whether to be seeing artifacts?',\n",
       " \"Mary wasn't familiar with James, so she wasn't comfortable speaking with him. How might she come off?\",\n",
       " 'It was a vast complex, the launch pad was just one part of what?',\n",
       " 'An electronics store had things damaged from the rain, where should these things be stored?',\n",
       " 'A lonely man committed suicide, why would he do that?',\n",
       " 'What might someone want to be if he or she is thick?',\n",
       " 'He wore the wrong shoes while walking all day, now he has what on his heels and toes?',\n",
       " 'What would release energy, but not mainly in your muscles?',\n",
       " 'If I am suffering from boredom, and I want to do something with a dictionary, what would help?',\n",
       " 'What is made out of only one piece?',\n",
       " 'When he was a small child he called the giraffe mascot a cow, it was a fond memory of the now defunct what?',\n",
       " 'He had a hard time finding the room on his schedule, it was on the second floor and he got lost in the very large what?',\n",
       " \"Whether it's popped, grilled, or canned people like to what?\",\n",
       " 'What happens to the conscience of someone who has been caught committing a murder?',\n",
       " 'Having a car in the city seemed to be more trouble than it was worth, the man still had to walk to and from the what after commuting?',\n",
       " 'What is likely to be the goal of telling many people about a new organization?',\n",
       " 'Where can the legs of a stool be built?',\n",
       " 'How might people perceive someone they are scared of?',\n",
       " 'Where would a ticket help you to get to a different country?',\n",
       " 'What happens when someone is playing too aggressively?',\n",
       " 'What are students trying to do?',\n",
       " 'Where do farmers keep toothpicks?',\n",
       " 'The detective had to analyse all the clues, every little thing at the scene he had to what?',\n",
       " 'A person with brown skin may share that skin with whom?',\n",
       " 'If I screw a chain ring onto something, what am I fixing?',\n",
       " \"Where would you put a dictionary while you're using it?\",\n",
       " 'A common saying, Sam thought, was to go forth, also this.',\n",
       " \"Someone who is awake is likely to know what's going on because they are this?\",\n",
       " 'Where would you find some swords in your house?',\n",
       " 'Bill did not abandon the fight, but did what to the enemy?',\n",
       " 'A shower is an expected amenity when you reserve a what?',\n",
       " 'What do humans do when in a race?',\n",
       " 'The garage had light sensors and automatic doors, what kind of house was it?',\n",
       " 'Where would you find people gathered near liquid in a workplace?',\n",
       " 'Where can you store you tent and keep it on your person?',\n",
       " 'What happens to people playing games?',\n",
       " \"Billy went away because his parents were fighting and he didn't want to stay where?\",\n",
       " 'Where could you find a fox hunting when not in a forest?',\n",
       " \"Lindy was a senior.  He lived with his children because he didn't want to go where?\",\n",
       " 'What could be happening near you if the ground is getting wet?',\n",
       " 'Where do most people keep magazines?',\n",
       " 'What cuisine is joked about eating small dogs?',\n",
       " 'Why might a person go to get counseling?',\n",
       " 'A water spout was seen in the ocean off the coast of what?',\n",
       " 'How can buildings like the Empire State building be described?',\n",
       " 'The rowdy frat boys shouted they would have fun and do what tonight?',\n",
       " 'What might someone do who is having fun?',\n",
       " 'what is the goal of going jogging?',\n",
       " \"John was stuck in his house.  He couldn't get out the door.  He was very frightened when the smoke detectors went off, but luckily it was a false alarm.  Why might he be stuck?\",\n",
       " 'The master control for the Tardis is where in the main room?',\n",
       " 'The old barn was beyond repair, they had to destroy it before they could what a new one?',\n",
       " 'Where would one find a shopping bag for packing groceries?',\n",
       " 'The lady was getting worked up about the article explaining the uptick in accidents in their area, but her husband was dismissive of it stating that accidents what?',\n",
       " 'There was a show on television about a ranger who loved flowers, but the next day it was about a gardener who also loved flowers.  It was a what?',\n",
       " 'They wanted to eat at home but the cupboards were barren, so they had to go what?',\n",
       " 'How does a flea locomote?',\n",
       " 'Where are you likely to find a professional prostitute?',\n",
       " 'If I have a vintage, decorative light source in my possession, what is it likely to be?',\n",
       " 'What would you do if you have curiosity about something but cannot leave your house?',\n",
       " \"Sam was against Allison's decision.  Joe was the opposite.  What was Joe, regarding that decision?\",\n",
       " 'Why would you not want to be working with wood?',\n",
       " 'He was good at traditional science but excelled at social science, his favorite subject was what?',\n",
       " 'A gentleman is very wealthy and flaunts it, where does he likely live?',\n",
       " 'Where could you find a bookstore?',\n",
       " 'John had a lot of respect for Jill, but not many other people did.  She faced a lot of what?',\n",
       " \"If you have trouble beginning work you're suffering from what?\",\n",
       " 'Why is waiting for the doctor difficult for people who need to do work?',\n",
       " \"If you aren't experiencing curiosity and want to ensure viewing enjoyment, what may you watch?\",\n",
       " 'The gambler had been winning a lot, he wisely decided to what?',\n",
       " 'What is a lover likely to want to do with their partner?',\n",
       " 'Where would you get a bag after someone fills it with clothes?',\n",
       " 'The sample needed to be pure, but the lab assistant got it what?',\n",
       " 'What treatment might an old time doctor have tried to accomplish with leeches?',\n",
       " 'What does a person looking for new things in life do?',\n",
       " 'Where would you put a handle if you want to bring it with you?',\n",
       " 'What do you need to have before buying products?',\n",
       " 'They were competing in basketball, the goal was to what?',\n",
       " 'What often happens after a long day of traveling?',\n",
       " 'while luck plays a big role, every person who is great at something has focus and what to it?',\n",
       " 'What happens when humans are exposed to noises?',\n",
       " 'What are you hoping to do when listening to an expert speak?',\n",
       " 'Where is a likely place to view an old copy machine?',\n",
       " 'What chore might a child have to do after breakfast, before getting on the bus?',\n",
       " 'A large container was a dime a dozen, there were hundreds of rows of them in the giant what?',\n",
       " 'The snake was a cottonmouth.  It was an American, from where?',\n",
       " 'What would you put furniture on top of?',\n",
       " 'Where can someone view a county highway as a line?',\n",
       " 'Which effect of stress could cause death if not treated immediately?',\n",
       " 'A person takes a seat to watch a movie, where is he?',\n",
       " 'You can read a magazine where while waiting for your transportation on rails to arrive?',\n",
       " 'The farmer chose plants he could make bird feed from and use of again the next year, he only planted what?',\n",
       " 'Where might you have cake with your ice cream?',\n",
       " 'James lived in the top of a tall tower.  He could see clouds when he looked out his window.  Where might he live?',\n",
       " 'The policemen wanted to clear the scene of the accident, so what did they do to traffic?',\n",
       " \"If you're betting with a shark, where are you likely playing?\",\n",
       " 'If one sees a fox and is standing in a coastal, gulf state, where is this person?',\n",
       " 'A person writes a check to a clerk, where does the clerk put them?',\n",
       " 'Where would you find performers on a platform in public?',\n",
       " 'He was looking for the holiday decorations and found an old box of clothes up where?',\n",
       " 'Where might a yard be tiny?',\n",
       " 'What is love when everyone keeps feeling it?',\n",
       " 'A balloon or two is a staple at a what?',\n",
       " 'HOw do you carry potatos home?',\n",
       " 'Where are you likely to find a paper program?',\n",
       " 'Billy bounced the ball off the wall.  There was a target on the wall for him to bounce against.  Where might he be?',\n",
       " 'How can an artist commemorate a horse forever.',\n",
       " 'Where do almost all people live?',\n",
       " 'What is a living thing with a lip?',\n",
       " 'what do you do before going to party?',\n",
       " 'The color yellow is associated with the opposite of the characteristic, what is it?',\n",
       " 'What is another term for instituting civil action?',\n",
       " 'If they were celebrating the occasion, how could the occasion be described?',\n",
       " 'The delivery man was delivering a whole crate of shampoo, they went through a lot of it at the what?',\n",
       " 'The man needed balls of cotton, where should he look?',\n",
       " 'Where would I put a rosebush if I did not have any containers to store it in?',\n",
       " 'Where could you find some large pieces of paper that are not for sale?',\n",
       " \"James didn't know what to do.  He felt that he'd ruin his relationship with Jen if he took it further, and he didn't want to do that.  At the same time,  He fight that pushing farther might do what to something good?\",\n",
       " 'What is important in a car when you are driving fast and come to a light?',\n",
       " 'Bob needs a level to hang a shelf but cant find one in his home. Where would he go to get one?',\n",
       " 'Why would professionals playing sports not be able to compete?',\n",
       " 'A musician is most likely to perform a concerto for clarinet with what type of group?',\n",
       " \"When a newborn's eyes open for the first time it will be the first time the ever?\",\n",
       " 'Where in a town would you put your shed?',\n",
       " \"James's bouncing rubber balls were at rest, and so he could sleep.  He would get up in the morning, and then put them in what state again?\",\n",
       " 'What would you normally expect a cat to say?',\n",
       " 'Where do people find bills with bread?',\n",
       " \"If you're traveling along a highway what item made of paper can you use to find your way?\",\n",
       " 'When I was home, I was comfortable.  But I had a crippling fear of going where?',\n",
       " 'Where will a native lemur be found?',\n",
       " 'Where can you eat fruit on a red bridge?',\n",
       " 'Where in your entrance hall can you keep you head wear?',\n",
       " \"John's RV needs electricity so that he can cook lunch.  Where would he go to plug in?\",\n",
       " 'Turkey is a nation in what part of the world?',\n",
       " 'What makes people happy when it is surprising and unexpected?',\n",
       " 'If I wanted to see a lizard in its natural habitat but I do not speak Spanish, where would I go?',\n",
       " 'What is not a safe way to transport jewelry on vacation?',\n",
       " 'Johnny and bill fought over money.  Johnny wanted it to be over.  What might he choose to do?',\n",
       " 'The man took 3 hours every morning for grooming, what is the likely result with his job?',\n",
       " 'Sarah opened his chest and found a second heart.  Her patient might not be what?',\n",
       " 'They launch a surprise attack, this ended the what?',\n",
       " 'What European country is famous for its potato industry?',\n",
       " 'Dancing for a long time will lead you to become what?',\n",
       " 'Where do most people keep their curling iron stored?',\n",
       " 'The shore was now a tourist attraction with nearby little shops, but at one time this what was home to a bustling fishing industry?',\n",
       " \"What is likely to happen to someone's speech after becoming inebriated?\",\n",
       " 'What gets rid of a mundane routine?',\n",
       " 'What does a master carpenter use to put holes in objects?',\n",
       " 'When someone falls from a mountain it will lead them to?',\n",
       " 'Why is this person not listening to music?',\n",
       " \"David hurt all over. He was tired, he was shaking, and he was in pain.  He hadn't gotten what he needed in a long time.  He was suffering from what?\",\n",
       " 'Where is a good place to buy moistener?',\n",
       " 'There was a saucepan used only for marinara, where was it kept?',\n",
       " 'If people are vegetarian, what do they do more of?',\n",
       " 'The movie had many a song and dance, it was a what?',\n",
       " 'Danny was having fun singing in front of his class.   He has a lot of what?',\n",
       " 'Where is a system of electronic devices likely to be used in school?',\n",
       " 'What do humans do when they want to reproduce?',\n",
       " 'After the guilty verdict in the killing the judge gave a speech, he told the murderer he was pure what?',\n",
       " 'Changing society using a violent conflict is know as a what?',\n",
       " 'After new coke was discontinued what formula was used?',\n",
       " 'Where is a monkey likely to be found in the rainforest?',\n",
       " 'The billionaire donated a large sum to his former college, this allowed them to construct a new science what?',\n",
       " 'What do humans take in while breathing?',\n",
       " \"Someone who doesn't care about about someone else and wishes them to fail has what feeling towards them?\",\n",
       " 'What does reckless driving lead to on a person?',\n",
       " 'Many containers full of goods are unloaded where after their long sea journey',\n",
       " 'Where is a lion likely to live?',\n",
       " 'My favorite type of entertainment are rollercoasters and ferris wheels, where should I go?',\n",
       " 'Where is a ferret getting lots of attention likely to be found?',\n",
       " \"An attempt to confirm an applicant's reference would fail if the reference does what?\",\n",
       " 'Everybody raised a drink and cheered, they were doing what?',\n",
       " 'What is someone watching a person who is playing guitar doing?',\n",
       " \"The animals weren't good at swimming, so it was hard for them to do what?\",\n",
       " 'Where is a microphone boom likely to be covering a stock market event?',\n",
       " 'John is getting something important.  What does this make him feel?',\n",
       " 'James thought that giving the AI a secular upbringing would be the better choice.  He felt that the alternative might have results that were too what?',\n",
       " \"The new kitten hadn't gotten used to what it was allowed to climb on in most rooms, so the owned kept the bedroom door what?\",\n",
       " 'What happens to cats every day?',\n",
       " 'He got a job dancing and waving an advertisement, he got to be outside instead of stuck inside the what?',\n",
       " 'What could you do if you want to listen to music?',\n",
       " 'Where do you keep a teakettle?',\n",
       " 'Where are seats most likely bleachers?',\n",
       " \"Where does someone lay with their leg elevated when it's broken?\",\n",
       " 'What does a chicken do in a joke?',\n",
       " 'The disease was spreading fast, so what were researchers desperately seeking?',\n",
       " 'Where are you if your reading magazines while waiting for a vehicle on rails?',\n",
       " 'Dry and cracked heels are found on?',\n",
       " 'One way to relieve your hunger if you live near the coast is to do what?',\n",
       " 'He needed to check an electrical connection in the house, where did he look?',\n",
       " 'If an actor is said to be on the “silver screen\" where would you see them perform?',\n",
       " 'He had an index card he had to return, so where did he put it after finding the book he needed?',\n",
       " 'The shelf was showing signs of instability, what should the carpenter fix to avoid any issues?',\n",
       " 'Jan went to the auditorium and listened to the speech. Where might he be?',\n",
       " \"What's the nickname of the monster the beauty loved?\",\n",
       " \"Where do I put my coffee mug after it's dry?\",\n",
       " 'Where are all participants likely to need sports equipment?',\n",
       " 'We were having a canned food drive and I needed to pick up some contributions, where did I go?',\n",
       " 'Where is a telephone booth likely to be red?',\n",
       " 'John is a human who is in a wheelchair due to an accident.  Where would he go to get to the third floor of his apartment building?',\n",
       " 'The mother finished wrapping the very last gift, she then placed it under the what?',\n",
       " 'The wheel was loose, and threatened to fall off when they were what?',\n",
       " 'What is someone unintentionally hurting someone else but unable to stop likely to feel?',\n",
       " 'One might find theirs open, with the letters that had been delivered stolen.',\n",
       " 'The man was playfully wrestling with a woman he was enamored with, what was the physiological result?',\n",
       " 'The teams were evenly matched when competing against one another, what did spectators want to find out?',\n",
       " 'Sally was a senior in the House.  What might she be a member of?',\n",
       " 'Where are a lot of offices in New York?',\n",
       " 'The small cabin was not available, so they were upgraded to what?',\n",
       " \"Johnny was looking for blowfish in places that weren't near America.  Where would he look?\",\n",
       " \"John lives in Texas. If he takes the highway South and doesn't stop, where will he end up next?\",\n",
       " 'He would finally see idea become reality, never in a million years did he what that this would happen?',\n",
       " 'A projector displayed people on the huge screen while the audience laughed.  What might they be watching?',\n",
       " 'Nowadays people have smart ones, but at one time it was cutting edge to have a tiny calculator on your what?',\n",
       " 'What happens when you take a shower after going for a run?',\n",
       " 'What is a negative effect to someone other than a spouse when two spouses are getting divorced?',\n",
       " 'What business has a tower to transmit signals?',\n",
       " 'Where do you go to meet a friend who lives close to you?',\n",
       " 'No matter the background of the person, they should all be given what in applying for the job?',\n",
       " 'James looked for a pencil sharpener.  Where might he look first?',\n",
       " 'The crab was scuttling but strained when he moved, what was impeding him?',\n",
       " 'What is a place where you usually store dishes but not books?',\n",
       " 'What happens to the next appointment when a grooming takes longer than expected?',\n",
       " 'James is very interested in other planets.  He loved the idea of going to mars, and reads books about it all the time.   He dreams of being on what?',\n",
       " 'What would you put in a container?',\n",
       " 'Parents often yell in times of chaos, what are they trying to do?',\n",
       " 'Where would you stand in a line and need a coat if it is cold?',\n",
       " 'James was looking for a place to buy bitcoins.  He searched and found a large menu of what?',\n",
       " 'What is illegal to do when you play cards at a casino?',\n",
       " 'What could there be in a beauty salon?',\n",
       " 'where do you typically find a trash can in the city?',\n",
       " 'Where can you store a small notepad on your person?',\n",
       " 'At a state fair judging pigs requires careful what?',\n",
       " 'What feeling might propel one to instituting civil action?',\n",
       " 'John loves animals and he hates animal abuse.  Because of this, john is very careful about the places he goes.  Where might he avoid going?',\n",
       " 'Reading a newspaper gives you a what about local current events?',\n",
       " 'The lady was doing a one man show of her tell story, when the show began she did what?',\n",
       " 'Where can you buy a fishing rod?',\n",
       " 'What would you tell ali to do if he bumps into you when you are walking?',\n",
       " \"I'm watching tv because there is nothing else to do, what do I expect to get from this?\",\n",
       " 'Where would you store a shopping bag if all the seats in your vehicle are full?',\n",
       " 'What city in the middle east is known for a temple?',\n",
       " 'What do people do to pass time before they can use electronics when fly in airplane?',\n",
       " 'After attending school for twelve years what do you do?',\n",
       " 'When you are expressing yourself by yelling after getting a bruise, what are you feeling?',\n",
       " 'The helm is not something you wear on your head. Rather, it moves the masts on what?',\n",
       " 'Where is a good place to sore a wind instrument in you home?',\n",
       " 'To what part of your home is your morning paper delivered?',\n",
       " 'What do people who are speech therapists do?',\n",
       " \"John hated mosquitoes.  It wasn't the bloodsucking that he disliked, it was that the insects made what?\",\n",
       " 'She curled up under a blanket to get warm, this made her what on the couch as they started movie?',\n",
       " \"He found the blowfish off the coast of the Carolina's, it was where?\",\n",
       " 'He had been doing favors for everybody at work, it was frustrating not getting any what for it?',\n",
       " 'The family was playing cards, what would be a reason for this?',\n",
       " 'What does moving cars entail?',\n",
       " 'What area is likely to contain a large village?',\n",
       " 'What did the business require of everyone walking into their store?',\n",
       " 'The woman experienced great joy, but despite that this was a what?',\n",
       " 'Where would you find a binder containing homework assignments?',\n",
       " 'Shane was supposed to speak at his fathers funeral.  He was a clown, and acted very ridiculous.  This cheerfulness turned off people who expected the funeral to be what?',\n",
       " \"The college kids weren't known for their apartment decor choices, they used a folding chair inside their what?\",\n",
       " 'The department store is located in the Northwest USA.  Where might it be?',\n",
       " 'If you see blinking lights in the air at night, what are you usually looking at?',\n",
       " 'When a monkey is taken away from their home they are often brought to this place where people wear white coats.',\n",
       " 'What could you put a table in if you want the table to be in your house?',\n",
       " 'John is studying animals.   What is one of the many things he has to watch them doing?',\n",
       " 'Sarah thought that she had been home all evening.  That meant that the only time to leave was when?',\n",
       " 'Where did the person have to walk downstairs to get the tool?',\n",
       " 'James was cooking s stew in his apartment kitchen.  Where might he look for a potato.',\n",
       " 'What do only some types of police do?',\n",
       " 'The child really wanted to teach his grandpa to read, he thought it was wrong that he had spent his whole life what?',\n",
       " 'Where do people traditionally get information about the world?',\n",
       " 'The sun was out and the temperature changing rapidly, it was really beginning to what?',\n",
       " \"She'd sooner just spray herself with water than the what she didn't like the smell of?\",\n",
       " 'What would a person expect if they are competent in their school work?',\n",
       " \"Lizards need the sun's heat to regulate their body temperature, this is why you'll see them still on what?\",\n",
       " 'Where did his wife ask him to look first when he complained of missing deodorant?',\n",
       " 'What would a person do if he or she wanted to get good grades?',\n",
       " \"There weren't enough chairs for everyone.  What might have to be delayed?\",\n",
       " 'Where does a shadow usually appear?',\n",
       " 'When we are thankful for getting something what do we do?',\n",
       " 'What can happen in your mind while sleeping?',\n",
       " 'What preposition do you use if you want to combine two words?',\n",
       " 'George ruined the surprise.  How did he do so?',\n",
       " 'Some might say that if you want to do something that results in changing society then you need to start from within, to do this what would you be doing?',\n",
       " \"If I take my heifer out East, where's a place we might end up?\",\n",
       " 'Where in your home would you store birth control pills near your toothpaste?',\n",
       " 'Where do fish spend the majority of their time?',\n",
       " 'What would form on your feet, if you were jogging all day?',\n",
       " 'Water is an important ingredient in what sugary beverage?',\n",
       " 'Where should you find a school in?',\n",
       " 'She a deep love for all her friends, every Friday she had an open invitation for them as she loved to host and what?',\n",
       " 'What were southern institutions where slaves do the labor called?',\n",
       " 'What divider stores papers for work or school?',\n",
       " 'Where is a notebook often purchased?',\n",
       " 'The circus monkey waived a white surrender flag, the conductor joked the monkey must work in the what?',\n",
       " \"If you're afraid of spiders what should you avoid owning?\",\n",
       " 'Where would one find a captive monkey?',\n",
       " 'If you are driving too fast on an icy road you are being what?',\n",
       " 'Who said ignorance was not an excuse for the crime?',\n",
       " 'A yard is made up of what?',\n",
       " 'If someone is outgoing what are they likely to seek?',\n",
       " \"What has happened to a person's money after he or she has used the last of it?\",\n",
       " 'Where is the strategic gold reserve in the U.S.?',\n",
       " 'What is a parents primary duty?',\n",
       " 'What sport is the audience the loudest at?',\n",
       " 'Where can you find a place to eat and places to buy items of many different kinds?',\n",
       " \"If electrical equipment won't power on, what connection should be checked?\",\n",
       " 'If children get confused walking home where may they go?',\n",
       " \"A government seeks what over it's people?\",\n",
       " 'If I recieve a letter from a friend over seas, why might I read it?',\n",
       " 'Where above your kitchen sink could you store canned food?',\n",
       " 'The graveyard was important to build, where should it be built?',\n",
       " 'The people wanted to take the scenic route, they chose the highway that cut through the what?',\n",
       " 'Where would you see a performer at a gathering of you friends?',\n",
       " 'Where is a road known as a motorway?',\n",
       " 'What is the opposite of hosting a crowd?',\n",
       " \"You are seeking to provide yourself what when you're applying for a job?\",\n",
       " 'He called bull when his friend said a bull can be what?',\n",
       " 'How might compassionate thoughful be described as being?',\n",
       " 'What could fighting inflation cause if it is not successful?',\n",
       " 'They took a break from all the rides to have lunch, while eating hamburger they talked about how they were going to what on the next ride?',\n",
       " 'James drove his niece to her father.  Where did he drive?',\n",
       " 'The teachers needed to get their classrooms ready for the school year.  What is one thing they might do?',\n",
       " 'We do not have rest, so how are we feeling?',\n",
       " 'Where can you purchase food and eat it at tables?',\n",
       " 'What could you buy in a bookstore?',\n",
       " 'If you socialize by having trivial conversations it is called what?',\n",
       " 'The kids had been having fun all day, there was now a what?',\n",
       " 'Sarah took poison by accident She found it in the cabinet and. thought that it was what?',\n",
       " 'Some stores trick women to buy products, the sales make it seem like if you buy more you what?',\n",
       " 'If a person is seeing new things, what do they most often feel?',\n",
       " 'A strong laxative will help you keep what kind of bowel movements?',\n",
       " 'Where would there be a connection to go to another place?',\n",
       " 'What does god want people to do for money?',\n",
       " 'What part of the body are lips on?',\n",
       " 'Where would you carry a pen as you go through your day?',\n",
       " 'What white meat goes well with potatos?',\n",
       " 'What is the result of instituting civil action?',\n",
       " 'If you hit someone while driving what could happen to that person?',\n",
       " 'Why do people engage in chatting with friends in class?',\n",
       " 'Where would a human expect to find manufacturing operations?',\n",
       " \"The man didn't like getting out of bed and stepping on the cold tile, so where did he put carpeting?\",\n",
       " \"You'd add pepper and salt to what liquid meal if it's bland?\",\n",
       " 'How can you get the attention of a person across the room?',\n",
       " 'Where can you get a stray small dog?',\n",
       " 'What is something that you feel when you go to the opera?',\n",
       " 'What do people want to do when they love a place that they are going on vacation in?',\n",
       " 'A shark swam in the background aquarium as the card players sat emotionless, what were they playing?',\n",
       " 'Where can someone purchase a contraceptive device without a prescription?',\n",
       " 'Where would you find a desk normally occupied by a young person?',\n",
       " 'Where can you buy socks and jeans?',\n",
       " 'Where did the compassionate farmer allow the heifer to reside during her last days?',\n",
       " 'Where would people be looking at some things which can move, but are not moving?',\n",
       " \"People celebrate by going places and riding rides.  What's one obvious place people might go to celebrate?\",\n",
       " 'The shark was migrating between continents, where did biologists find it?',\n",
       " \"Lilly owns the only kosher deli in the area.  She isn't in a heavily populated area.  Where might she live?\",\n",
       " 'Where do  you park in the parking lot with shopping bags?',\n",
       " 'Stopping being married to one another was a costly task, the lawyers and their what were astronomical?',\n",
       " 'What does one chop us a grape for?',\n",
       " 'What is a place that could have tens of thousands of fiddle?',\n",
       " 'James used the cannon to shoot at something while seeking lunch. It was overkill.  What did he shoot at?',\n",
       " 'What will happen if you are successful when committing suicide?',\n",
       " 'James was a student who had a report that is due tomorrow.  Where might he spend most of his time today?',\n",
       " 'Where could you find many theater?',\n",
       " \"His running escape didn't last long once he tripped, perhaps he should've thought to what?\",\n",
       " 'A school is most likely to be located in what sort of zone?',\n",
       " 'James went to the best steakhouse outside of the South.  Where is James?',\n",
       " 'If I wanted to thank someone for saying I have done a good job, what would I do?',\n",
       " 'The window of the Honda was hit from the inside, not the outside. Where was most of the the broken glass found?',\n",
       " 'What happens to people when they do not have enough food?',\n",
       " 'Utensils are used during what evening activity?',\n",
       " 'Where can you learn about operations with numbers?',\n",
       " 'What creatures performing pollination are loved my millions?',\n",
       " 'What is a common sign that someone is lying?',\n",
       " 'The friends loved competing against one another, it was a good way to work their what?',\n",
       " 'james loved the stars.  In the wilderness, they lit up what?',\n",
       " 'Deciding to watch tv or play with your cell phone might be a routine but they provide no help in being able to do what?',\n",
       " 'Everybody has a little bit of creativity, but only a few lucky ones get to do what for a living?',\n",
       " 'What type of water transportation is human powered?',\n",
       " 'What could someone be doing while performing that cannot be enjoyed by deaf people?',\n",
       " \"If you're standing in line and the line isn't moving what might you feel?\",\n",
       " \"Bob is in a dressing room.  He's putting on waterproof trunks and goggles.  What sort of facility is he most likely visiting?\",\n",
       " 'What do customers do in a store?',\n",
       " 'There are many cubicles in the office, they all have computers for employees to what?',\n",
       " 'If I wanted to store dirt in my home, where could I put it?',\n",
       " 'He was selling all his collector items even the rare plate, he had bought a lot at the what for the weekend?',\n",
       " 'What is a fast but expensive way to send small cargo?',\n",
       " 'The star had 4 rocky planets and 4 gaseous planets orbiting it, what was it part of',\n",
       " 'I need a person to milk a cow would a volunteer do this?',\n",
       " 'Food must be freeze dried before it is taken on what vehicle?',\n",
       " 'What is a useful activity when experiencing loneliness?',\n",
       " 'His day at the office was nearing an end, he went to the start menu on his computer to do what?',\n",
       " 'If a person wants to buy a radio, where are they likely to go?',\n",
       " 'What does someone chatting with friends do when they hear a joke?',\n",
       " 'Where might someone find old clothing?',\n",
       " \"If something is obtuse, what couldn't it be?\",\n",
       " 'Learning usually leads to greater what?',\n",
       " 'The artist knew that this was the peak of his fandom, so he decided it was time for cashing in by doing what?',\n",
       " \"Sam didn't like the people he met while traveling.  What might he do to get away from them?\",\n",
       " 'The children saw superman fly overhead, what did they exclaim as a result?',\n",
       " 'Illegitimate designer handbags will not have a certificate of what?',\n",
       " 'What state shaped like a glove has a lot of farmland?',\n",
       " 'What office furniture stores paper files?',\n",
       " 'Where should an excavation never take place?',\n",
       " 'Where can I find a steakhouse with a view of corn fields?',\n",
       " 'If you harm property after starting a fire where are you likely to end up?',\n",
       " 'Having your marijuana in bags help keep it what?',\n",
       " 'What kind of place could have thousands of statue?',\n",
       " 'Everybody seemed to have a horse not just the regular gamblers, which event always brings out the biggest crowds to the sport?',\n",
       " 'A person is alone in the woods and wounded, what should he do?',\n",
       " 'Why would a company be going public?',\n",
       " 'The human looked down longingly as he sat in the orbiting space station, what did he miss?',\n",
       " 'How can a person end up stopping standing in  puddle?',\n",
       " 'What  might john order at an indian resturant on top of the space needle?',\n",
       " 'What eastern state is home to a mountain?',\n",
       " 'Sam left his muddy shoes in the entryway.  Where might he be?',\n",
       " 'What would a person do if he or she just woke up?',\n",
       " \"He curled up and tried to fall on his shoulder so his arm or what wouldn't take the hit?\",\n",
       " 'If I need deodorant, where do I go to but some?',\n",
       " 'Why might a person take a vacation?',\n",
       " 'What are people playing when they want to take the lead with small papers?',\n",
       " 'Where can you buy a hairbrush along with bandages?',\n",
       " 'Who sits at the center table at a receeption?',\n",
       " 'The clothing was extremely expensive compared to other places, where was it likely purchased?',\n",
       " 'What do you fill with ink to print?',\n",
       " 'Where would a restaurant put a candle?',\n",
       " 'What is KFC who serves chicken?',\n",
       " \"John didn't enjoy procreating.  He had a hangup.  He didn't like to be what?\",\n",
       " 'Where does a marmoset not usually go?',\n",
       " 'What is a child likely to do while going to play?',\n",
       " 'What prevents someone from getting sleep at night?',\n",
       " 'Reaching advantage position in a competitin puts me in what position as compared to others?',\n",
       " 'I wanted  a side chair for people to visit me while I worked, where did I have it put?',\n",
       " 'where do you store wine?',\n",
       " 'John spent too much money buying products for his swollen testicles.  He did so because he was feeling what?',\n",
       " \"People always talked childlike to him, even though his disability was physical and didn't affect his what?\",\n",
       " 'What is the biggest speech in the capital?',\n",
       " 'A person with children might have a lot of plastic things in what place?',\n",
       " 'What do people look for when competing against someone?',\n",
       " \"The swimming pool couln't be refilled due to drought regulations, where was it located?\",\n",
       " 'What is a person likely to feel when they are abandoned by everyone after they stop being married to someone else?',\n",
       " 'A bride and groom are taking care of proposals, what is the likely ceremony?',\n",
       " 'Three quarters of what are covered by the ocean?',\n",
       " 'Why would a person be approached by a lot of people?',\n",
       " 'She had a knack for entertaining, everybody told he she had a what?',\n",
       " 'Where would someone be likely to store a double edge razor?',\n",
       " 'When people want to watch a new move, the often go see it at the?',\n",
       " 'What might a satisfied person do?',\n",
       " 'Dave put his beer where he could get to it, but it would be off the floor.  Where did he put it?',\n",
       " 'Eating breakfast with a large family leads to a pile of what in the sink?',\n",
       " 'Where would you buy a ticket to sit in a room with a lot of chairs facing the same direction?',\n",
       " \"If I wanted to store my chess pawn when I wasn't using it, what would be a good place for that?\",\n",
       " \"If you're known to buy presents for others often you would be called what?\",\n",
       " \"There aren't many anemone in what glove-shaped state?\",\n",
       " 'The keys were black and white, what were they attached to?',\n",
       " \"They don't get grades or sit at desks, but crowds of fish do what?\",\n",
       " 'What kind of people will someone who is in charge of project look for?',\n",
       " 'Where you have finished a conversation with a person what do you say?',\n",
       " 'What do you need to run after ball?',\n",
       " 'Where could you find some airplanes that are not being used?',\n",
       " 'She was processing the wool, she kept her leg bouncing to operate the what?',\n",
       " 'Where would you put a computer other than a desk?',\n",
       " 'Where do you buy treats for kids over a counter?',\n",
       " 'Long term consumption of beer can lead to all sorts of problems, it can be quite what?',\n",
       " 'When going to sleep what noise does a human make?',\n",
       " 'The boy was too nervous to dance, so what was he doing progressively at the ball?',\n",
       " 'Where could you find a laundry room that is only used by staff?',\n",
       " 'Where does a beaver leave?',\n",
       " 'What is the opposite of a village?',\n",
       " 'What does someone living life fully feel?',\n",
       " \"The artist didn't use many colors to capture the view, he was famous for his very plain what?\",\n",
       " 'When you experience boredom, what can you do on television?',\n",
       " 'It had a beach with shallow water, while not the ocean this was a hot spot all the locals enjoyed on the what?',\n",
       " 'What would happen to you if you are not good at playing violin?',\n",
       " 'Wanting to avoid the cabbage spoiling, where did he put it?',\n",
       " 'If people listen, they can understand each other better.  If they understand each other, they can do what?',\n",
       " 'What place would a person go to look at zebras?',\n",
       " 'Where might a human sit for extended periods over a bowl of water?',\n",
       " 'The window across the street was broken and John felt guilty. He never meant to damage what?',\n",
       " 'If I have a forgiving attitude toward someone, what do they receive?',\n",
       " 'I was shopping at a car dealership, what did a salesman do?',\n",
       " 'The fact the two sides were able to even reach tentative agreement was a feat to what?',\n",
       " 'The police man was waving flares, what did he do with the impatient car?',\n",
       " 'Where do you watch garbage?',\n",
       " 'In what place could you find air that has been breathed by many people recently?',\n",
       " 'What business uses lots of potatoes?',\n",
       " 'What does a judge do when someone is convicted of a crime?',\n",
       " 'Where do security guards usually drive around in golf carts and protect young adults?',\n",
       " 'The man needed flooring, where was he looking to install it?',\n",
       " 'Where can you find pamphlets regarding diseases and ailments?',\n",
       " 'What would humans do when their legs are tired?',\n",
       " 'What planet is the atlantic ocean part of?',\n",
       " \"Mark wanted to know the truth, because he didn't want to continue existing in what?\",\n",
       " 'What animal produces milk?',\n",
       " \"Where is disease often spread but shouldn't be?\",\n",
       " 'A beaver builds structures to block what sort of feature?',\n",
       " 'What would someone wear to protect themselves from a cannon?',\n",
       " 'Society cannot exist without numbers.   They only rise up in what sort of spaces?',\n",
       " 'Where is a snake likely to reside?',\n",
       " \"John couldn't find a place to stay, and he didn't want to waste money.  He picked a place that was inexpensive and offered few luxuries.  Where might he be staying?\",\n",
       " 'Where does someone not happy to take their car?',\n",
       " \"Bill bought an upright piano but didn't have anywhere to put it because he lived where?\",\n",
       " 'Where would you hear a viola along side many other string and brass instruments?',\n",
       " 'Traders work on the floor of the stock what?',\n",
       " 'To gain her trust the real estate agent was very polite, delightful and all around what?',\n",
       " 'What could you find at a bus station that can help you?',\n",
       " 'Where are small grapes used?',\n",
       " 'Rumors of roving bands of monsters killing people could lead to what?',\n",
       " 'Remembering past successe is likely to cause what?',\n",
       " 'What would you use if you wanted to make some columns of numbers?',\n",
       " 'A person notices popcorn, cotton candy on the grass, where is he likely?',\n",
       " 'What happens when people are waiting for something?',\n",
       " 'What corner areas have lots of windows?',\n",
       " 'What would a person do to help someone that is not able to speak coherently?',\n",
       " 'In war, your primary method is combat, but your goal is to do what?',\n",
       " 'What would something be if you do not need it?',\n",
       " 'A person would carry a large netted drawstring bag to what sort of place?',\n",
       " 'The investigator considered the gun evidence, where did he send it?',\n",
       " 'Where would you read a passage but not write it?',\n",
       " 'Where could you find an armchair that is used by only a few people?',\n",
       " 'My house is very dry, with little water in the air. What tool should I use to fix this?',\n",
       " 'What do all rooms facing outside have?',\n",
       " 'What do all humans have on the side of their head?',\n",
       " 'Where is one likely to hear a harpsichord?',\n",
       " 'She had been applying for job for weeks with no call back, she knew she was qualified, so what did she feel?',\n",
       " 'What usually happens to people who are models?',\n",
       " 'What has highly criticized security?',\n",
       " 'How often are secular parties held?',\n",
       " 'Why would I want to be exercising?',\n",
       " 'Why would someone be wet after being full of fear?',\n",
       " 'A person is putting on makeup, what is their likely goal?',\n",
       " 'What will happen to your knowledge with more learning?',\n",
       " 'The wind tore off the shingles, what was the wind like?',\n",
       " 'Dan outfitted his house to run on the oldest heat source on Earth. What is the oldest heat source on Earth?',\n",
       " 'Where is a horse likely to live?',\n",
       " 'Why does she sing so much?',\n",
       " \"Ice fishing can be done surprisingly far out most winters on what greatest of the Michigan's greats?\",\n",
       " \"Though he was an adult he still stereotypical slept on a sofa bed in his parent's what\",\n",
       " 'James kept a clipboard where he could easily find  it.  Where might he keep it?',\n",
       " 'The mother was worried about all the spills, so she bought a rug for under the what?',\n",
       " 'If there is a stale smell in the air coming from the kitchen, what should one check for the source of the smell?',\n",
       " 'What would cause someone to use invitro for reproducing?',\n",
       " \"Why shouldn't you walk barefooted after the rain?\",\n",
       " 'What will all the differences equal?',\n",
       " 'What would be considered a success when attempting procreation?',\n",
       " 'The janitor got his pail out of where?',\n",
       " 'The doctor recommended washing hands, what was being promoted?',\n",
       " \"The cloth's are not yet placed where they belong, where should we put them?\",\n",
       " 'Where is one likely to purchase listening vinyl?',\n",
       " 'Sally took her medicine and experienced strong side effects.  What did doctors say about the side effects?',\n",
       " 'What is a student about to do if they are sitting in front of a number of black and white keys?',\n",
       " 'The robot shockingly began to read book after book, it had apparently done what?',\n",
       " 'What is the purpose of the cabin in an airplane?',\n",
       " 'You can buy a pen here.',\n",
       " 'What should the bean bag chair sit on?',\n",
       " 'This city in Northern Norway is filled within things to do like Polar Nights half marathons and located in the middle of the Northern lights oval, which city is it?',\n",
       " 'Where can you buy a binder?',\n",
       " 'James was delayed for a couple of hours because he had a connection.  Where might his connection be?',\n",
       " 'Where would you find isopropol alcohol and safety glasses?',\n",
       " 'The man tried to run, but he could not. He could that he could only move by doing what?',\n",
       " 'Collections of atoms called molecules make up everything you can hold in your what?',\n",
       " 'What is the opposite of foolhardy?',\n",
       " 'Where can you get in shape and drink at a juice bar?',\n",
       " 'What is an way for people to meet with each other?',\n",
       " 'What do horses do to get energy?',\n",
       " 'Where would you see some people standing on a line near a road?',\n",
       " \"The museum made an odd choice for the koala display, they put the stuffed creature in what area where you'd usually find a panda?\",\n",
       " 'What does exercising immediately lead to?',\n",
       " 'There are a lot of ways to relax, for this person it is simply opening one up and what?',\n",
       " 'If a person does something to hurt someone else, they might do what?',\n",
       " 'Where was the apple tree said to contain something forbidden?',\n",
       " 'There is a lot of sugar in what food that fits in your hand?',\n",
       " 'Where do you wait in a reception area for a meeting?',\n",
       " 'She was bad at dancing, so what basic skill did the instructor teach her?',\n",
       " \"Billy's mother tripped over a stuffed animal.  She yelled at him not to leave his things where?\",\n",
       " 'A student wants to hear what the professor is saying, what does he do?',\n",
       " 'How would someone feel after going for run?',\n",
       " 'If a student was about to graduate, they would no longer be attending what?',\n",
       " 'What are adult people usually expected to do?',\n",
       " 'Where would you dispose of a broken icebox?',\n",
       " 'Mary was a bad girl, but she was always open about that.  People liked her because she was what?',\n",
       " 'Where may I view sharks in a clear tunnel?',\n",
       " 'Dan said that getting in line was the best choice because it would lead to what?',\n",
       " 'Where could you find a theater which only has unpaid actors?',\n",
       " 'The competition was to see who would be the last one the drop the object, the hard part was you had to have your arm extended straight out while what the object?',\n",
       " 'Why would someone confess to committing murder?',\n",
       " \"Which long saga will we be watching on tonight's program?\",\n",
       " 'She wanted to make a quilt of velvet, where should she look?',\n",
       " 'What is a convenient place for a bus station?',\n",
       " \"The crowd wasn't that big.  It can better be described as what?\",\n",
       " \"Where would you put silverware once they've dried, but you're not ready to use them.\",\n",
       " 'After bringing eggs home from the store in what are they held?',\n",
       " 'Where would you put an account book if you are leaving and do not need to bring it with you?',\n",
       " \"If clothes have developed a smell and can't be washed what should you do with them?\",\n",
       " 'What do you feel from playing football?',\n",
       " 'The wood became fossilized, what did the paleontologists call it when they found ti?',\n",
       " 'What is a place that someone can go buy a teddy bear?',\n",
       " 'What might the inability to learn cause?',\n",
       " 'Who does the government help with schools?',\n",
       " 'A small dog is lost in New England, where would it likely be found?',\n",
       " 'What do you do to hold loose papers together?',\n",
       " 'People were talking on the corner, who were they talking with?',\n",
       " \"He finally found someone as ugly as him, knowing he wouldn't be the one sticking out was what?\",\n",
       " 'The band enjoyed their success and fans, they loved to what at the start of every concert?',\n",
       " 'During the brainstorming session there was a lot of talking and what?',\n",
       " 'Where could you find multiple ruler that are owned by different people?',\n",
       " 'Why is grooming often recommended to greasy teens?',\n",
       " 'We want to try some new barbecue sauces, where should we buy some?',\n",
       " 'Where can you see a mammoth in NYC?',\n",
       " 'Where could you put some olives to prevent them from getting nearby food wet?',\n",
       " 'When having food at a formal place, what do you usually do?',\n",
       " 'What body of water is typically shallow water?',\n",
       " 'How do you indicate that you agree wtih someone?',\n",
       " 'James wanted to stop competing.  What might he have been feeling?',\n",
       " \"Always wash your hands before eating, you don't want to get germs onto food and inside your what?\",\n",
       " 'The explorers found a central passage, much to their delight it led straight to the ancient buried what?',\n",
       " 'Along what feature will you find a rosebush?',\n",
       " 'A man was driving himself to the airport, where did he put his luggage?',\n",
       " 'What is someone likely to feel after receiving a gift that is not common?',\n",
       " \"The banjo finds it's history in the Caribbean, but it's probably most famous where?\",\n",
       " 'The print was extremely small, as he was reading letter after letter he began to suffer eye what?',\n",
       " 'If I am forgiving, what hidden force may be activated in my life?',\n",
       " 'When playing baseball they keep track of mistakes, this stat is called what?',\n",
       " 'What does someone need to do to begin creating art?',\n",
       " 'If I have a reception with many people attending, where should I be sure to hold it?',\n",
       " \"What should you do if your pens aren't work?\",\n",
       " 'Who designs a building?',\n",
       " 'Where is a bay always found?',\n",
       " 'What past time are people engaged in when they are traveling along liquid?',\n",
       " 'Where can you find a movie theater along with other stores in one placE?',\n",
       " 'The man on the street corner was showing off a wristwatch, he was trying to what it for drug money?',\n",
       " 'The man needed to buy flooring, where was he looking for it?',\n",
       " 'Bill was awaking, what was happening to him physiologically?',\n",
       " 'Why might someone want to be buying beer?',\n",
       " 'What kind of radio does someone use to reach base?',\n",
       " 'The person turned the oven on and put a pizza in, what happened one hour later?',\n",
       " \"You weren't suppose to touch the wild animals, they could what?\",\n",
       " 'Danny hated helping people.  It always brought what?',\n",
       " \"A person who wants to make more at their job but can't will often need to find a what?\",\n",
       " 'What could happen to you after you see some beautiful clouds above you?',\n",
       " 'As a human in a large northeastern city, where can you see animals?',\n",
       " 'What is something you do  in a bank?',\n",
       " 'Where would you find fungus growing on something made from milk?',\n",
       " 'When a snake prefers warm, sunny weather, where would it likely want to live?',\n",
       " 'The jar was plastic, just like most of the stuff in the kitchen.  John preferred glass, and wished he was somewhere else.  Where does he want to be?',\n",
       " 'When she went to examine the thing, what was she considering doing with it?',\n",
       " \"Where would you find a metal rod in most people's preferred method of transportation?\",\n",
       " \"The man set the cup on the table.  It didn't matter.   He didn't heave anything to put it on, and he lacked the what to balance it?\",\n",
       " 'Where do you buy a glass of wine?',\n",
       " \"If a human wants to enjoy another human's company, where might they go?\",\n",
       " 'It was breakfast time.  Brad ordered eggs, toast, and something to drink. What might he drink?',\n",
       " 'You might head to the locker room after getting a green drink here.',\n",
       " ...]"
      ]
     },
     "execution_count": 15,
     "metadata": {},
     "output_type": "execute_result"
    }
   ],
   "source": [
    "cqa[\"train\"][\"question\"]"
   ]
  },
  {
   "cell_type": "code",
   "execution_count": 3,
   "metadata": {},
   "outputs": [
    {
     "data": {
      "text/plain": [
       "DatasetDict({\n",
       "    train: Dataset({\n",
       "        features: ['answerKey', 'question', 'choices'],\n",
       "        num_rows: 9741\n",
       "    })\n",
       "    validation: Dataset({\n",
       "        features: ['answerKey', 'question', 'choices'],\n",
       "        num_rows: 1221\n",
       "    })\n",
       "    test: Dataset({\n",
       "        features: ['answerKey', 'question', 'choices'],\n",
       "        num_rows: 1140\n",
       "    })\n",
       "})"
      ]
     },
     "execution_count": 3,
     "metadata": {},
     "output_type": "execute_result"
    }
   ],
   "source": [
    "cqa"
   ]
  }
 ],
 "metadata": {
  "interpreter": {
   "hash": "591688fbcbea40ff8c02f2afe3b71c6c5dc57996febca89055592de027a69040"
  },
  "kernelspec": {
   "display_name": "Python 3 (ipykernel)",
   "language": "python",
   "name": "python3"
  },
  "language_info": {
   "codemirror_mode": {
    "name": "ipython",
    "version": 3
   },
   "file_extension": ".py",
   "mimetype": "text/x-python",
   "name": "python",
   "nbconvert_exporter": "python",
   "pygments_lexer": "ipython3",
   "version": "3.9.13"
  }
 },
 "nbformat": 4,
 "nbformat_minor": 4
}
